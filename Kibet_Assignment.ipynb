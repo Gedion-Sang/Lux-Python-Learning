{
 "cells": [
  {
   "cell_type": "markdown",
   "metadata": {},
   "source": [
    "Integer (int)\n",
    "1. What will be the output of the following code? x = -15\n",
    "print(abs(x) + pow(3, 2))\n",
    "2. Convert the number 45 to its binary and hexadecimal representations using Python functions.\n",
    "3. What will be the output of the following? print(type(bin(25)))\n",
    "Float (float)\n",
    "1. What will be the output of the following code? num = 5.6789\n",
    "print(round(num, 1))\n",
    "2. Convert the string \"20.75\" into a float and add 5 to it.\n",
    "3. What is the difference between float(10) and int(10.5) in terms of output?\n",
    "String (str)\n",
    "1. Given s = \" Python Programming \", write a line of code to remove extra spaces and convert it to lowercase.\n",
    "2. What will be the output of the following? text = \"hello world\"\n",
    "print(text.replace(\"world\", \"Python\"))\n",
    "3. Write a Python expression to split \"apple,banana,grapes\" into a list of individual fruits.\n",
    "List (list)\n",
    "1. Given numbers = [3, 1, 4, 1, 5, 9], write a line of code to count how many times 1 appears in the list.\n",
    "2. What will be the output of the following? fruits = ['apple', 'banana', 'cherry']\n",
    "fruits.append('mango')\n",
    "fruits.remove('banana')\n",
    "print(fruits)\n",
    "3. Write a Python expression to sort marks = [78, 56, 89, 45] in ascending order."
   ]
  },
  {
   "cell_type": "code",
   "execution_count": 4,
   "metadata": {},
   "outputs": [
    {
     "name": "stdout",
     "output_type": "stream",
     "text": [
      "24\n"
     ]
    }
   ],
   "source": [
    "x =-15\n",
    "print(abs(x)+ pow(3,2))"
   ]
  },
  {
   "cell_type": "code",
   "execution_count": null,
   "metadata": {},
   "outputs": [],
   "source": []
  },
  {
   "cell_type": "code",
   "execution_count": null,
   "metadata": {},
   "outputs": [],
   "source": []
  },
  {
   "cell_type": "code",
   "execution_count": null,
   "metadata": {},
   "outputs": [],
   "source": []
  },
  {
   "cell_type": "code",
   "execution_count": null,
   "metadata": {},
   "outputs": [],
   "source": []
  },
  {
   "cell_type": "code",
   "execution_count": null,
   "metadata": {},
   "outputs": [],
   "source": []
  },
  {
   "cell_type": "code",
   "execution_count": null,
   "metadata": {},
   "outputs": [],
   "source": []
  },
  {
   "cell_type": "code",
   "execution_count": null,
   "metadata": {},
   "outputs": [],
   "source": []
  },
  {
   "cell_type": "code",
   "execution_count": null,
   "metadata": {},
   "outputs": [],
   "source": []
  },
  {
   "cell_type": "code",
   "execution_count": null,
   "metadata": {},
   "outputs": [],
   "source": []
  },
  {
   "cell_type": "code",
   "execution_count": null,
   "metadata": {},
   "outputs": [],
   "source": []
  },
  {
   "cell_type": "code",
   "execution_count": null,
   "metadata": {},
   "outputs": [],
   "source": []
  },
  {
   "cell_type": "code",
   "execution_count": null,
   "metadata": {},
   "outputs": [],
   "source": []
  },
  {
   "cell_type": "code",
   "execution_count": null,
   "metadata": {},
   "outputs": [],
   "source": []
  },
  {
   "cell_type": "code",
   "execution_count": null,
   "metadata": {},
   "outputs": [],
   "source": []
  },
  {
   "cell_type": "code",
   "execution_count": null,
   "metadata": {},
   "outputs": [],
   "source": []
  }
 ],
 "metadata": {
  "kernelspec": {
   "display_name": "Python 3",
   "language": "python",
   "name": "python3"
  },
  "language_info": {
   "codemirror_mode": {
    "name": "ipython",
    "version": 3
   },
   "file_extension": ".py",
   "mimetype": "text/x-python",
   "name": "python",
   "nbconvert_exporter": "python",
   "pygments_lexer": "ipython3",
   "version": "3.13.2"
  }
 },
 "nbformat": 4,
 "nbformat_minor": 2
}

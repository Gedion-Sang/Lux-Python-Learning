{
 "cells": [
  {
   "cell_type": "markdown",
   "metadata": {},
   "source": [
    "Integers\n",
    "1. What will be the output of the following code? x = -15 print(abs(x) + pow(3, 2))\n",
    "2. Convert the number 45 to its binary and hexadecimal representations using Python functions.\n",
    "3. What will be the output of the following? print(type(bin(25)))  "
   ]
  },
  {
   "cell_type": "code",
   "execution_count": null,
   "metadata": {},
   "outputs": [
    {
     "name": "stdout",
     "output_type": "stream",
     "text": [
      "24\n"
     ]
    }
   ],
   "source": [
    "# 1. What will be the output of the following code? x = -15 print(abs(x) + pow(3, 2))\n",
    "x =-15\n",
    "print(abs(x)+ pow(3,2))"
   ]
  },
  {
   "cell_type": "code",
   "execution_count": 39,
   "metadata": {},
   "outputs": [
    {
     "name": "stdout",
     "output_type": "stream",
     "text": [
      "0b101101\n",
      "0x2d\n"
     ]
    }
   ],
   "source": [
    "# 2. Convert the number 45 to its binary and hexadecimal representations using Python functions.\n",
    "number = 45\n",
    "\n",
    "binary = bin(number)  \n",
    "hexadecimal = hex(number)  \n",
    "\n",
    "print(binary)\n",
    "print(hexadecimal)\n"
   ]
  },
  {
   "cell_type": "code",
   "execution_count": 6,
   "metadata": {},
   "outputs": [
    {
     "name": "stdout",
     "output_type": "stream",
     "text": [
      "<class 'str'>\n"
     ]
    }
   ],
   "source": [
    "# 3. What will be the output of the following? \n",
    "# print(type(bin(25)))\n",
    "print(type(bin(25)))"
   ]
  },
  {
   "cell_type": "markdown",
   "metadata": {},
   "source": [
    "Float\n",
    "1. What will be the output of the following code? num = 5.6789\n",
    "print(round(num, 1))\n",
    "2. Convert the string \"20.75\" into a float and add 5 to it.\n",
    "3. What is the difference between float(10) and int(10.5) in terms of output?"
   ]
  },
  {
   "cell_type": "code",
   "execution_count": null,
   "metadata": {},
   "outputs": [
    {
     "name": "stdout",
     "output_type": "stream",
     "text": [
      "5.7\n"
     ]
    }
   ],
   "source": [
    "# 1. What will be the output of the following code? num = 5.6789\n",
    "# print(round(num, 1))\n",
    "num = 5.6789\n",
    "print(round(num,1))"
   ]
  },
  {
   "cell_type": "code",
   "execution_count": 8,
   "metadata": {},
   "outputs": [
    {
     "name": "stdout",
     "output_type": "stream",
     "text": [
      "25.75\n"
     ]
    }
   ],
   "source": [
    "# 2. Convert the string \"20.75\" into a float and add 5 to it.\n",
    "num = \"20.75\"\n",
    "float(num)\n",
    "print(float(num) + 5)\n"
   ]
  },
  {
   "cell_type": "code",
   "execution_count": null,
   "metadata": {},
   "outputs": [
    {
     "name": "stdout",
     "output_type": "stream",
     "text": [
      "10.0\n",
      "10\n"
     ]
    }
   ],
   "source": [
    "# 3. What is the difference between float(10) and int(10.5) in terms of output?\n",
    "print(float(10))\n",
    "print(int(10.5))\n",
    "\n",
    "# The difference is that the output of float(10) has a decimal point while that of int(10.5) does not \n",
    "# have a decimal point."
   ]
  },
  {
   "cell_type": "markdown",
   "metadata": {},
   "source": [
    "String\n",
    "1. Given s = \" Python Programming \", write a line of code to remove extra spaces and convert it to lowercase.\n",
    "2. What will be the output of the following? text = \"hello world\"\n",
    "print(text.replace(\"world\", \"Python\"))\n",
    "3. Write a Python expression to split \"apple,banana,grapes\" into a list of individual fruits."
   ]
  },
  {
   "cell_type": "code",
   "execution_count": 12,
   "metadata": {},
   "outputs": [
    {
     "data": {
      "text/plain": [
       "'python programming'"
      ]
     },
     "execution_count": 12,
     "metadata": {},
     "output_type": "execute_result"
    }
   ],
   "source": [
    "# 1. Given s = \" Python Programming \", write a line of code to remove extra spaces and convert it to lowercase.\n",
    "s = \" Python Programming \"\n",
    "s.strip().lower()"
   ]
  },
  {
   "cell_type": "code",
   "execution_count": null,
   "metadata": {},
   "outputs": [
    {
     "name": "stdout",
     "output_type": "stream",
     "text": [
      "hello Python\n"
     ]
    }
   ],
   "source": [
    "#2. What will be the output of the following? text = \"hello world\" print(text.replace(\"world\", \"Python\"))\n",
    "text = \"hello world\"\n",
    "print(text.replace(\"world\", \"Python\")) # replaces the string 'world' with the string 'Python'"
   ]
  },
  {
   "cell_type": "code",
   "execution_count": 16,
   "metadata": {},
   "outputs": [
    {
     "data": {
      "text/plain": [
       "['apples,banana,grapes']"
      ]
     },
     "execution_count": 16,
     "metadata": {},
     "output_type": "execute_result"
    }
   ],
   "source": [
    "# 3. Write a Python expression to split \"apple,banana,grapes\" into a list of individual fruits.\n",
    "fruits = \"apples,banana,grapes\"\n",
    "fruits.split()"
   ]
  },
  {
   "cell_type": "markdown",
   "metadata": {},
   "source": [
    "List (list)\n",
    "1. Given numbers = [3, 1, 4, 1, 5, 9], write a line of code to count how many times 1 appears in the list.\n",
    "2. What will be the output of the following? fruits = ['apple', 'banana', 'cherry']\n",
    "fruits.append('mango')\n",
    "fruits.remove('banana')\n",
    "print(fruits)\n",
    "3. Write a Python expression to sort marks = [78, 56, 89, 45] in ascending order."
   ]
  },
  {
   "cell_type": "code",
   "execution_count": 17,
   "metadata": {},
   "outputs": [
    {
     "data": {
      "text/plain": [
       "2"
      ]
     },
     "execution_count": 17,
     "metadata": {},
     "output_type": "execute_result"
    }
   ],
   "source": [
    "# 1. Given numbers = [3, 1, 4, 1, 5, 9], write a line of code to count how many times 1 appears in the list.\n",
    "numbers = [3,1,4,1,5,9]\n",
    "numbers.count(1)"
   ]
  },
  {
   "cell_type": "code",
   "execution_count": 26,
   "metadata": {},
   "outputs": [
    {
     "name": "stdout",
     "output_type": "stream",
     "text": [
      "['apple', 'banana', 'cherry']\n"
     ]
    }
   ],
   "source": [
    "# 2. What will be the output of the following? fruits = ['apple', 'banana', 'cherry']\n",
    "# fruits.append('mango')\n",
    "# fruits.remove('banana')\n",
    "# print(fruits)\n",
    "fruits = ['apple', 'banana', 'cherry']\n",
    "print(fruits)\n"
   ]
  },
  {
   "cell_type": "code",
   "execution_count": 27,
   "metadata": {},
   "outputs": [
    {
     "name": "stdout",
     "output_type": "stream",
     "text": [
      "['apple', 'banana', 'cherry', 'mango']\n"
     ]
    }
   ],
   "source": [
    "fruits.append('mango')\n",
    "print (fruits)\n"
   ]
  },
  {
   "cell_type": "code",
   "execution_count": 28,
   "metadata": {},
   "outputs": [],
   "source": [
    "fruits.remove('banana')"
   ]
  },
  {
   "cell_type": "code",
   "execution_count": 29,
   "metadata": {},
   "outputs": [
    {
     "name": "stdout",
     "output_type": "stream",
     "text": [
      "['apple', 'cherry', 'mango']\n"
     ]
    }
   ],
   "source": [
    "print(fruits)"
   ]
  },
  {
   "cell_type": "code",
   "execution_count": 31,
   "metadata": {},
   "outputs": [
    {
     "name": "stdout",
     "output_type": "stream",
     "text": [
      "[45, 56, 78, 89]\n"
     ]
    }
   ],
   "source": [
    "# 3. Write a Python expression to sort marks = [78, 56, 89, 45] in ascending order.\n",
    "marks = [78, 56, 89, 45]\n",
    "marks.sort()\n",
    "print(marks)"
   ]
  },
  {
   "cell_type": "code",
   "execution_count": null,
   "metadata": {},
   "outputs": [],
   "source": []
  },
  {
   "cell_type": "code",
   "execution_count": null,
   "metadata": {},
   "outputs": [],
   "source": []
  },
  {
   "cell_type": "code",
   "execution_count": null,
   "metadata": {},
   "outputs": [],
   "source": []
  },
  {
   "cell_type": "code",
   "execution_count": null,
   "metadata": {},
   "outputs": [],
   "source": []
  }
 ],
 "metadata": {
  "kernelspec": {
   "display_name": "Python 3",
   "language": "python",
   "name": "python3"
  },
  "language_info": {
   "codemirror_mode": {
    "name": "ipython",
    "version": 3
   },
   "file_extension": ".py",
   "mimetype": "text/x-python",
   "name": "python",
   "nbconvert_exporter": "python",
   "pygments_lexer": "ipython3",
   "version": "3.13.2"
  }
 },
 "nbformat": 4,
 "nbformat_minor": 2
}

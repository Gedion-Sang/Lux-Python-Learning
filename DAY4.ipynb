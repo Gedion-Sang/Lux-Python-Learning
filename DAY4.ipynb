{
 "cells": [
  {
   "cell_type": "markdown",
   "metadata": {},
   "source": [
    "F-string\n",
    "- evaluates expressions inside curly { } brackets"
   ]
  },
  {
   "cell_type": "code",
   "execution_count": 172,
   "metadata": {},
   "outputs": [
    {
     "name": "stdout",
     "output_type": "stream",
     "text": [
      "Profit is 28000\n"
     ]
    }
   ],
   "source": [
    "# f-string evaluates expressions inside curly brackets\n",
    "Revenue = 30000\n",
    "Cost = 2000\n",
    "Profit = Revenue - Cost\n",
    "print(f\"Profit is {Profit}\")"
   ]
  },
  {
   "cell_type": "code",
   "execution_count": 173,
   "metadata": {},
   "outputs": [
    {
     "name": "stdout",
     "output_type": "stream",
     "text": [
      "Happy Birthday Dennis! You are now 36 years old!\n"
     ]
    }
   ],
   "source": [
    "name = \"Dennis\"\n",
    "age = 36\n",
    "print(f\"Happy Birthday {name}! You are now {age} years old!\")"
   ]
  },
  {
   "cell_type": "markdown",
   "metadata": {},
   "source": [
    "NESTED LOOPS IN DATA ANALYSIS\n",
    "- useful for iterating tasks such as iterating over multidimensional data structures "
   ]
  },
  {
   "cell_type": "code",
   "execution_count": 174,
   "metadata": {},
   "outputs": [
    {
     "name": "stdout",
     "output_type": "stream",
     "text": [
      "1+1=1\n",
      "1+2=2\n",
      "1+3=3\n",
      "\n",
      "2+1=2\n",
      "2+2=4\n",
      "2+3=6\n",
      "\n",
      "3+1=3\n",
      "3+2=6\n",
      "3+3=9\n",
      "\n"
     ]
    }
   ],
   "source": [
    "# Multiplication tables\n",
    "# in ranges - 0-11\n",
    "for i in range(1,4):\n",
    "    for j in range(1,4):\n",
    "        print(f\"{i}+{j}={i*j}\")\n",
    "    print()\n",
    "\n",
    " "
   ]
  },
  {
   "cell_type": "markdown",
   "metadata": {},
   "source": [
    "DATA TYPES AND METHODS IN PYTHONS\n",
    "- Data types define the type of value stored in a variable.\n",
    "- Python has several data types:\n",
    "\n",
    "- 1. Numeric Types: int, float, complex(a+bj)\n",
    "- 2. Sequence Types: lists[ ], tuples( )\n",
    "- 3. Set Types: set{ },frozen set\n",
    "- 4. Mapping Types: dict{}\n",
    "- 5. Boolean Type: True or False\n",
    "- 6. Binary Type: bytes, bytearray, memoryview"
   ]
  },
  {
   "cell_type": "markdown",
   "metadata": {},
   "source": [
    " Numeric Data Types\n",
    " (int, float, complex)\n",
    "- int - whole numbers\n",
    "- float - decimal numbers\n",
    "- complex - real and imaginary numbers\n",
    "- type() function to determine the type of a variable\n",
    "- type conversion functions - int(), float(), complex()\n",
    "- int() - converts to integer\n",
    "- float() - converts to float\n",
    "- complex() - converts to complex\n",
    "- complex numbers are represented as a+bj\n",
    "- a is the real part and b is the imaginary part\n",
    "- complex numbers can be created using complex() function\n",
    "- complex numbers can be added, subtracted, multiplied, divided\n",
    "- complex numbers can be compared\n"
   ]
  },
  {
   "cell_type": "code",
   "execution_count": 175,
   "metadata": {},
   "outputs": [
    {
     "data": {
      "text/plain": [
       "int"
      ]
     },
     "execution_count": 175,
     "metadata": {},
     "output_type": "execute_result"
    }
   ],
   "source": [
    "# int\n",
    "x =10\n",
    "y = 5\n",
    "type(x)\n",
    "type(y)"
   ]
  },
  {
   "cell_type": "code",
   "execution_count": 176,
   "metadata": {},
   "outputs": [
    {
     "data": {
      "text/plain": [
       "8"
      ]
     },
     "execution_count": 176,
     "metadata": {},
     "output_type": "execute_result"
    }
   ],
   "source": [
    "# methods\n",
    "pow(2,3)\n",
    "2**3\n"
   ]
  },
  {
   "cell_type": "code",
   "execution_count": 177,
   "metadata": {},
   "outputs": [
    {
     "name": "stdout",
     "output_type": "stream",
     "text": [
      "0.6\n"
     ]
    },
    {
     "data": {
      "text/plain": [
       "float"
      ]
     },
     "execution_count": 177,
     "metadata": {},
     "output_type": "execute_result"
    }
   ],
   "source": [
    "# float\n",
    "x= 3/5\n",
    "print(x)\n",
    "type(x)\n"
   ]
  },
  {
   "cell_type": "code",
   "execution_count": 178,
   "metadata": {},
   "outputs": [
    {
     "name": "stdout",
     "output_type": "stream",
     "text": [
      "3.142857142857143\n",
      "3.14\n"
     ]
    }
   ],
   "source": [
    "# rounding off floats\n",
    "x= 22/7\n",
    "print(x)\n",
    "print(round(x,2))\n"
   ]
  },
  {
   "cell_type": "code",
   "execution_count": 179,
   "metadata": {},
   "outputs": [
    {
     "name": "stdout",
     "output_type": "stream",
     "text": [
      "-4.47\n"
     ]
    }
   ],
   "source": [
    "r= -4.4736573672\n",
    "print(round(r,2))"
   ]
  },
  {
   "cell_type": "code",
   "execution_count": 180,
   "metadata": {},
   "outputs": [
    {
     "data": {
      "text/plain": [
       "str"
      ]
     },
     "execution_count": 180,
     "metadata": {},
     "output_type": "execute_result"
    }
   ],
   "source": [
    "ten = '10.5'\n",
    "type(ten)"
   ]
  },
  {
   "cell_type": "code",
   "execution_count": 181,
   "metadata": {},
   "outputs": [
    {
     "data": {
      "text/plain": [
       "10.5"
      ]
     },
     "execution_count": 181,
     "metadata": {},
     "output_type": "execute_result"
    }
   ],
   "source": [
    "float(ten)"
   ]
  },
  {
   "cell_type": "code",
   "execution_count": 182,
   "metadata": {},
   "outputs": [
    {
     "data": {
      "text/plain": [
       "float"
      ]
     },
     "execution_count": 182,
     "metadata": {},
     "output_type": "execute_result"
    }
   ],
   "source": [
    "type(float(ten))"
   ]
  },
  {
   "cell_type": "code",
   "execution_count": 183,
   "metadata": {},
   "outputs": [
    {
     "data": {
      "text/plain": [
       "str"
      ]
     },
     "execution_count": 183,
     "metadata": {},
     "output_type": "execute_result"
    }
   ],
   "source": [
    "age = '67'\n",
    "type(age)"
   ]
  },
  {
   "cell_type": "code",
   "execution_count": 184,
   "metadata": {},
   "outputs": [
    {
     "data": {
      "text/plain": [
       "int"
      ]
     },
     "execution_count": 184,
     "metadata": {},
     "output_type": "execute_result"
    }
   ],
   "source": [
    "int(age)\n",
    "type(int(age))"
   ]
  },
  {
   "cell_type": "markdown",
   "metadata": {},
   "source": [
    "Strings\n",
    "- strings are a sequence of characters enclosed in single'' or double quotes \"\"\n"
   ]
  },
  {
   "cell_type": "code",
   "execution_count": 185,
   "metadata": {},
   "outputs": [],
   "source": [
    "name = 'irungu '"
   ]
  },
  {
   "cell_type": "code",
   "execution_count": 186,
   "metadata": {},
   "outputs": [
    {
     "name": "stdout",
     "output_type": "stream",
     "text": [
      "IRUNGU \n"
     ]
    }
   ],
   "source": [
    "# string methods\n",
    "\n",
    "# upper case is used to convert a string to upper case\n",
    "# name.upper()\n",
    "upper_name = name.upper()\n",
    "print(upper_name)\n"
   ]
  },
  {
   "cell_type": "code",
   "execution_count": 187,
   "metadata": {},
   "outputs": [
    {
     "name": "stdout",
     "output_type": "stream",
     "text": [
      "Irungu \n"
     ]
    }
   ],
   "source": [
    "\n",
    "# title case is used to capitalize the first letter of each word in a string\n",
    "# name.title()\n",
    "title_name = name.title()\n",
    "print(title_name)\n"
   ]
  },
  {
   "cell_type": "code",
   "execution_count": 188,
   "metadata": {},
   "outputs": [
    {
     "name": "stdout",
     "output_type": "stream",
     "text": [
      "irungu \n"
     ]
    }
   ],
   "source": [
    "\n",
    "# lower case is used to convert a string to lower case\n",
    "# name.lower()\n",
    "lower_name = name.lower()\n",
    "print(lower_name)\n"
   ]
  },
  {
   "cell_type": "code",
   "execution_count": 189,
   "metadata": {},
   "outputs": [
    {
     "name": "stdout",
     "output_type": "stream",
     "text": [
      "Irungu \n"
     ]
    }
   ],
   "source": [
    "\n",
    "# capitalize function is used to capitalize the first letter of a string\n",
    "# name.capitalize()\n",
    "cap_name = name.capitalize()\n",
    "print(cap_name)\n"
   ]
  },
  {
   "cell_type": "code",
   "execution_count": 190,
   "metadata": {},
   "outputs": [
    {
     "name": "stdout",
     "output_type": "stream",
     "text": [
      "irUngU \n"
     ]
    }
   ],
   "source": [
    "\n",
    "# replace function is used to replace a string with another string\n",
    "# name.replace()\n",
    "new_name = name.replace('u','U')\n",
    "print(new_name)\n"
   ]
  },
  {
   "cell_type": "code",
   "execution_count": 191,
   "metadata": {},
   "outputs": [
    {
     "name": "stdout",
     "output_type": "stream",
     "text": [
      "['i', 'ungu ']\n"
     ]
    }
   ],
   "source": [
    "\n",
    "# split function is used to split a string into a list\n",
    "# name.split()\n",
    "split_name = name.split('r')\n",
    "print(split_name)\n"
   ]
  },
  {
   "cell_type": "code",
   "execution_count": 192,
   "metadata": {},
   "outputs": [
    {
     "name": "stdout",
     "output_type": "stream",
     "text": [
      "irungu\n"
     ]
    }
   ],
   "source": [
    "\n",
    "# strip function is used to remove white spaces from the beginning and end of a string\n",
    "# name.strip()\n",
    "strip_name = name.strip()\n",
    "print(strip_name)\n"
   ]
  },
  {
   "cell_type": "code",
   "execution_count": 193,
   "metadata": {},
   "outputs": [
    {
     "name": "stdout",
     "output_type": "stream",
     "text": [
      "2\n"
     ]
    }
   ],
   "source": [
    "\n",
    "# find functioon is used to find the number of occurrences of a string, same as count function\n",
    "# name.find()\n",
    "find_name = name.find('u')\n",
    "print(find_name)\n"
   ]
  },
  {
   "cell_type": "code",
   "execution_count": 194,
   "metadata": {},
   "outputs": [
    {
     "name": "stdout",
     "output_type": "stream",
     "text": [
      "4\n"
     ]
    }
   ],
   "source": [
    "\n",
    "# index function finds the index of the first occurrence of the argument,\n",
    "# name.index()\n",
    "index_name = name.index('g')\n",
    "print(index_name)\n"
   ]
  },
  {
   "cell_type": "code",
   "execution_count": 195,
   "metadata": {},
   "outputs": [
    {
     "name": "stdout",
     "output_type": "stream",
     "text": [
      "2\n"
     ]
    }
   ],
   "source": [
    "\n",
    "# count function is used to count the number of occurrences of a string , it is case sensitive and is the same as find function\n",
    "# name.count()\n",
    "count_name = name.count('u')\n",
    "print(count_name)\n"
   ]
  },
  {
   "cell_type": "code",
   "execution_count": 196,
   "metadata": {},
   "outputs": [
    {
     "name": "stdout",
     "output_type": "stream",
     "text": [
      "u\n"
     ]
    }
   ],
   "source": [
    "\n",
    "# join function is used to join a list of strings into one string\n",
    "# name.join()\n",
    "join_name = name.join('u')\n",
    "print(join_name)\n"
   ]
  },
  {
   "cell_type": "code",
   "execution_count": 197,
   "metadata": {},
   "outputs": [
    {
     "name": "stdout",
     "output_type": "stream",
     "text": [
      "False\n"
     ]
    }
   ],
   "source": [
    "\n",
    "# startswith function is used to check if a string starts with a certain string, it returns a boolean value,and is case sensitive\n",
    "# name.startswith()\n",
    "start_name = name.startswith('I')\n",
    "print(start_name)\n"
   ]
  },
  {
   "cell_type": "code",
   "execution_count": 198,
   "metadata": {},
   "outputs": [
    {
     "name": "stdout",
     "output_type": "stream",
     "text": [
      "False\n"
     ]
    }
   ],
   "source": [
    "\n",
    "# endswith function is used to check if a string ends with a certain string, it returns a boolean value,and is case sensitive\n",
    "# name.endswith()\n",
    "end_name = name.endswith('U')\n",
    "print(end_name)\n"
   ]
  },
  {
   "cell_type": "code",
   "execution_count": 199,
   "metadata": {},
   "outputs": [
    {
     "name": "stdout",
     "output_type": "stream",
     "text": [
      "False\n"
     ]
    }
   ],
   "source": [
    "\n",
    "# isalnum function is used to check if a string is alphanumeric, it returns a boolean value\n",
    "# name.isalnum()\n",
    "alnum_name = name.isalnum()\n",
    "print(alnum_name)\n"
   ]
  },
  {
   "cell_type": "code",
   "execution_count": 200,
   "metadata": {},
   "outputs": [
    {
     "name": "stdout",
     "output_type": "stream",
     "text": [
      "False\n"
     ]
    }
   ],
   "source": [
    "\n",
    "# isalpha function is used to check if a string is alphabetic, it returns a boolean value\n",
    "# name.isalpha()\n",
    "alpha_name = name.isalpha() \n",
    "print(alpha_name)\n"
   ]
  },
  {
   "cell_type": "code",
   "execution_count": 201,
   "metadata": {},
   "outputs": [
    {
     "name": "stdout",
     "output_type": "stream",
     "text": [
      "False\n"
     ]
    }
   ],
   "source": [
    "\n",
    "# isdigit function is used to check if a string is a digit, it returns a boolean value\n",
    "# name.isdigit()\n",
    "digit_name = name.isdigit()\n",
    "print(digit_name)\n"
   ]
  },
  {
   "cell_type": "code",
   "execution_count": 202,
   "metadata": {},
   "outputs": [
    {
     "name": "stdout",
     "output_type": "stream",
     "text": [
      "True\n"
     ]
    }
   ],
   "source": [
    "\n",
    "# islower function is used to check if a string is in lower case, it returns a boolean value\n",
    "# name.islower()\n",
    "lower_name = name.islower()\n",
    "print(lower_name)\n"
   ]
  },
  {
   "cell_type": "code",
   "execution_count": 203,
   "metadata": {},
   "outputs": [
    {
     "name": "stdout",
     "output_type": "stream",
     "text": [
      "False\n"
     ]
    }
   ],
   "source": [
    "\n",
    "# isupper function is used to check if a string is in upper case, it returns a boolean value\n",
    "# name.isupper()\n",
    "upper_name = name.isupper()\n",
    "print(upper_name)\n"
   ]
  },
  {
   "cell_type": "code",
   "execution_count": 204,
   "metadata": {},
   "outputs": [
    {
     "name": "stdout",
     "output_type": "stream",
     "text": [
      "False\n"
     ]
    }
   ],
   "source": [
    "\n",
    "# isspace function is used to check if a string is a space, it returns a boolean value\n",
    "# name.isspace()\n",
    "space_name = name.isspace()\n",
    "print(space_name)\n"
   ]
  },
  {
   "cell_type": "code",
   "execution_count": 205,
   "metadata": {},
   "outputs": [
    {
     "name": "stdout",
     "output_type": "stream",
     "text": [
      "False\n"
     ]
    }
   ],
   "source": [
    "\n",
    "# istitle function is used to check if a string is in title case, it returns a boolean value\n",
    "# name.istitle()\n",
    "title_name = name.istitle()\n",
    "print(title_name)\n"
   ]
  },
  {
   "cell_type": "code",
   "execution_count": 206,
   "metadata": {},
   "outputs": [
    {
     "name": "stdout",
     "output_type": "stream",
     "text": [
      "True\n"
     ]
    }
   ],
   "source": [
    "\n",
    "# isprintable function is used to check if a string is printable, it returns a boolean value\n",
    "# name.isprintable()\n",
    "printable_name = name.isprintable()\n",
    "print(printable_name)\n"
   ]
  },
  {
   "cell_type": "code",
   "execution_count": 207,
   "metadata": {},
   "outputs": [
    {
     "name": "stdout",
     "output_type": "stream",
     "text": [
      "False\n"
     ]
    }
   ],
   "source": [
    "\n",
    "# isidentifier function is used to check if a string is an identifier, it returns a boolean value\n",
    "# an identifier is a name given to entities like class, functions, variables etc. It helps to differentiate one entity from another, it must be unique and cannot be a keyword. \n",
    "# name.isidentifier()\n",
    "identifier_name = name.isidentifier()\n",
    "print(identifier_name)\n"
   ]
  },
  {
   "cell_type": "code",
   "execution_count": 208,
   "metadata": {},
   "outputs": [
    {
     "name": "stdout",
     "output_type": "stream",
     "text": [
      "False\n"
     ]
    }
   ],
   "source": [
    "\n",
    "# isnumeric function is used to check if a string is numeric, it returns a boolean value\n",
    "# name.isnumeric()\n",
    "numeric_name = name.isnumeric()\n",
    "print(numeric_name)\n"
   ]
  },
  {
   "cell_type": "code",
   "execution_count": 209,
   "metadata": {},
   "outputs": [
    {
     "name": "stdout",
     "output_type": "stream",
     "text": [
      "False\n"
     ]
    }
   ],
   "source": [
    "\n",
    "# isdecimal function is used to check if a string is a decimal, it returns a boolean value\n",
    "# name.isdecimal()\n",
    "decimal_name = name.isdecimal()\n",
    "print(decimal_name)\n"
   ]
  },
  {
   "cell_type": "code",
   "execution_count": 210,
   "metadata": {},
   "outputs": [
    {
     "name": "stdout",
     "output_type": "stream",
     "text": [
      "True\n"
     ]
    }
   ],
   "source": [
    "\n",
    "# isascii function is used to check if a string is an ascii, it returns a boolean value\n",
    "# ascii is a standard for encoding characters, it is a 7-bit character set containing 128 characters, it is used to represent text in computers, communication equipment and other devices that use text.\n",
    "# name.isascii()\n",
    "ascii_name = name.isascii()\n",
    "print(ascii_name)\n"
   ]
  },
  {
   "cell_type": "code",
   "execution_count": 211,
   "metadata": {},
   "outputs": [
    {
     "name": "stdout",
     "output_type": "stream",
     "text": [
      "7\n"
     ]
    }
   ],
   "source": [
    "\n",
    "# len function is used to get the length of a string\n",
    "# len(name)\n",
    "length_name = len(name)\n",
    "print(length_name)\n"
   ]
  },
  {
   "cell_type": "code",
   "execution_count": 212,
   "metadata": {},
   "outputs": [
    {
     "name": "stdout",
     "output_type": "stream",
     "text": [
      "u\n"
     ]
    }
   ],
   "source": [
    "\n",
    "# max function is used to get the maximum value of a string\n",
    "# max function returns the maximum value of a string in alphabetical order\n",
    "# the higher the string in alphabetical order(A-Z), the higher the value\n",
    "# max(name)\n",
    "max_name = max(name)\n",
    "print(max_name)\n"
   ]
  },
  {
   "cell_type": "code",
   "execution_count": 213,
   "metadata": {},
   "outputs": [
    {
     "name": "stdout",
     "output_type": "stream",
     "text": [
      " \n"
     ]
    }
   ],
   "source": [
    "\n",
    "# min function is used to get the minimum value of a string\n",
    "# min function returns the minimum value of a string in alphabetical order\n",
    "# the lower the string in alphabetical order(A-Z), the lower the value\n",
    "# min(name)\n",
    "min_name = min(name)\n",
    "print(min_name)\n"
   ]
  },
  {
   "cell_type": "code",
   "execution_count": 214,
   "metadata": {},
   "outputs": [
    {
     "name": "stdout",
     "output_type": "stream",
     "text": [
      "True\n"
     ]
    }
   ],
   "source": [
    "\n",
    "# in function is used to check if a string is in another string\n",
    "# in is used to compare two strings to check if the first string is in the second string, it returns a boolean value\n",
    "# the first string is the string to be checked, the second string is the string to be checked against\n",
    "# name in name\n",
    "in_name = 'u' in name\n",
    "print(in_name)\n"
   ]
  },
  {
   "cell_type": "code",
   "execution_count": 215,
   "metadata": {},
   "outputs": [
    {
     "name": "stdout",
     "output_type": "stream",
     "text": [
      "False\n"
     ]
    }
   ],
   "source": [
    "\n",
    "# not in function is used to check if a string is not in another string\n",
    "# not in is used to compare two strings to check if the first string is not in the second string, it returns a boolean value\n",
    "# the first string is the string to be checked, the second string is the string to be checked against\n",
    "# name not in name\n",
    "not_in_name = 'u' not in name\n",
    "print(not_in_name)"
   ]
  },
  {
   "cell_type": "markdown",
   "metadata": {},
   "source": [
    "Lists [ ]\n",
    "- lists are used to store multiple items in a single variable\n",
    "- lists are ordered, changeable and allow duplicate values\n",
    "- lists can contain different data types, including strings, integers, floats, and other lists"
   ]
  },
  {
   "cell_type": "code",
   "execution_count": 216,
   "metadata": {},
   "outputs": [
    {
     "data": {
      "text/plain": [
       "list"
      ]
     },
     "execution_count": 216,
     "metadata": {},
     "output_type": "execute_result"
    }
   ],
   "source": [
    "shopping = ['apple','banana','orange']\n",
    "type(shopping)"
   ]
  },
  {
   "cell_type": "code",
   "execution_count": 217,
   "metadata": {},
   "outputs": [
    {
     "name": "stdout",
     "output_type": "stream",
     "text": [
      "['apple', 'banana', 'orange', 'pineapple']\n"
     ]
    }
   ],
   "source": [
    "# list methods\n",
    "\n",
    "# append function is used to add an element to the end of a list\n",
    "# list.append()\n",
    "shopping.append('pineapple')\n",
    "print(shopping)\n"
   ]
  },
  {
   "cell_type": "code",
   "execution_count": 218,
   "metadata": {},
   "outputs": [
    {
     "name": "stdout",
     "output_type": "stream",
     "text": [
      "['apple', 'orange', 'pineapple']\n"
     ]
    }
   ],
   "source": [
    "# remove function is used to remove an element from a list\n",
    "# list.remove()\n",
    "shopping.remove('banana')\n",
    "print(shopping)\n"
   ]
  },
  {
   "cell_type": "code",
   "execution_count": 219,
   "metadata": {},
   "outputs": [
    {
     "data": {
      "text/plain": [
       "0"
      ]
     },
     "execution_count": 219,
     "metadata": {},
     "output_type": "execute_result"
    }
   ],
   "source": [
    "#index function is used to get the position of an element in a list\n",
    "# list.index()\n",
    "shopping.index('apple')\n"
   ]
  },
  {
   "cell_type": "code",
   "execution_count": 220,
   "metadata": {},
   "outputs": [
    {
     "name": "stdout",
     "output_type": "stream",
     "text": [
      "['apple', 'banana', 'orange', 'pineapple']\n"
     ]
    }
   ],
   "source": [
    "# insert function is used to add an element to a list at a specific position\n",
    "# list.insert()\n",
    "shopping.insert(1,'banana')\n",
    "print(shopping)"
   ]
  },
  {
   "cell_type": "code",
   "execution_count": 221,
   "metadata": {},
   "outputs": [
    {
     "name": "stdout",
     "output_type": "stream",
     "text": [
      "['apple', 'orange', 'pineapple']\n"
     ]
    }
   ],
   "source": [
    "# pop function is used to remove an element from a list at a specific position\n",
    "# list.pop()\n",
    "shopping.pop(1)\n",
    "print(shopping)"
   ]
  },
  {
   "cell_type": "code",
   "execution_count": 222,
   "metadata": {},
   "outputs": [
    {
     "name": "stdout",
     "output_type": "stream",
     "text": [
      "['apple', 'orange', 'pineapple']\n"
     ]
    }
   ],
   "source": [
    "# sort function is used to sort a list in ascending order\n",
    "# list.sort()\n",
    "shopping.sort()\n",
    "print(shopping)"
   ]
  },
  {
   "cell_type": "code",
   "execution_count": 223,
   "metadata": {},
   "outputs": [
    {
     "name": "stdout",
     "output_type": "stream",
     "text": [
      "['pineapple', 'orange', 'apple']\n"
     ]
    }
   ],
   "source": [
    "# reverse function is used to reverse a list\n",
    "# list.reverse()\n",
    "shopping.reverse()\n",
    "print(shopping)"
   ]
  },
  {
   "cell_type": "code",
   "execution_count": 224,
   "metadata": {},
   "outputs": [
    {
     "name": "stdout",
     "output_type": "stream",
     "text": [
      "['pineapple', 'orange', 'apple']\n"
     ]
    }
   ],
   "source": [
    "# copy function is used to copy a list\n",
    "# list.copy()\n",
    "shopping.copy()\n",
    "print(shopping)"
   ]
  },
  {
   "cell_type": "code",
   "execution_count": 225,
   "metadata": {},
   "outputs": [
    {
     "name": "stdout",
     "output_type": "stream",
     "text": [
      "[]\n"
     ]
    }
   ],
   "source": [
    "# clear function is used to clear a list\n",
    "# list.clear()\n",
    "shopping.clear()\n",
    "print(shopping)"
   ]
  },
  {
   "cell_type": "code",
   "execution_count": 226,
   "metadata": {},
   "outputs": [
    {
     "data": {
      "text/plain": [
       "0"
      ]
     },
     "execution_count": 226,
     "metadata": {},
     "output_type": "execute_result"
    }
   ],
   "source": [
    "# count function is used to count the number of occurrences of an element in a list\n",
    "# list.count()\n",
    "shopping.count('apple')\n"
   ]
  },
  {
   "cell_type": "code",
   "execution_count": 227,
   "metadata": {},
   "outputs": [
    {
     "name": "stdout",
     "output_type": "stream",
     "text": [
      "['apple', 'banana', 'orange']\n"
     ]
    }
   ],
   "source": [
    "# extend function is used to add elements of a list to another list\n",
    "# list.extend()\n",
    "shopping.extend(['apple','banana','orange'])\n",
    "print(shopping)"
   ]
  },
  {
   "cell_type": "code",
   "execution_count": 228,
   "metadata": {},
   "outputs": [
    {
     "data": {
      "text/plain": [
       "3"
      ]
     },
     "execution_count": 228,
     "metadata": {},
     "output_type": "execute_result"
    }
   ],
   "source": [
    "# len function is used to get the length of a list\n",
    "# len(list)\n",
    "len(shopping)\n"
   ]
  },
  {
   "cell_type": "code",
   "execution_count": null,
   "metadata": {},
   "outputs": [
    {
     "name": "stdout",
     "output_type": "stream",
     "text": [
      "['apple', 'orange']\n"
     ]
    }
   ],
   "source": [
    "# del function is used to delete an element from a list, same as \n",
    "# del list[]\n",
    "del shopping[1]\n",
    "print(shopping)"
   ]
  },
  {
   "cell_type": "code",
   "execution_count": null,
   "metadata": {},
   "outputs": [],
   "source": [
    "# INPUT FUNCTION\n",
    "# if else\n"
   ]
  },
  {
   "cell_type": "code",
   "execution_count": 231,
   "metadata": {},
   "outputs": [],
   "source": [
    "clothes= ['jeans','dresses','Shirt']  "
   ]
  },
  {
   "cell_type": "code",
   "execution_count": 232,
   "metadata": {},
   "outputs": [
    {
     "name": "stdout",
     "output_type": "stream",
     "text": [
      "['jeans', 'dresses', 'Shirt']\n"
     ]
    }
   ],
   "source": [
    "print(clothes)"
   ]
  },
  {
   "cell_type": "code",
   "execution_count": 234,
   "metadata": {},
   "outputs": [
    {
     "name": "stdout",
     "output_type": "stream",
     "text": [
      "['Shirt', 'dresses', 'jeans']\n"
     ]
    }
   ],
   "source": [
    "clothes.sort()\n",
    "print(clothes)"
   ]
  },
  {
   "cell_type": "code",
   "execution_count": null,
   "metadata": {},
   "outputs": [],
   "source": []
  }
 ],
 "metadata": {
  "kernelspec": {
   "display_name": "Python 3",
   "language": "python",
   "name": "python3"
  },
  "language_info": {
   "codemirror_mode": {
    "name": "ipython",
    "version": 3
   },
   "file_extension": ".py",
   "mimetype": "text/x-python",
   "name": "python",
   "nbconvert_exporter": "python",
   "pygments_lexer": "ipython3",
   "version": "3.13.2"
  }
 },
 "nbformat": 4,
 "nbformat_minor": 2
}

{
 "cells": [
  {
   "cell_type": "markdown",
   "metadata": {},
   "source": [
    "FUNCTIONS\n",
    "- len(), type(), print() are functions that take arguments\n",
    "\n",
    "DEFINING FUNCTIONS\n",
    "- we use the def keyword\n"
   ]
  },
  {
   "cell_type": "code",
   "execution_count": 59,
   "metadata": {},
   "outputs": [],
   "source": [
    "profit = 34000\n",
    "cost = 5634\n"
   ]
  },
  {
   "cell_type": "code",
   "execution_count": 60,
   "metadata": {},
   "outputs": [
    {
     "data": {
      "text/plain": [
       "39634"
      ]
     },
     "execution_count": 60,
     "metadata": {},
     "output_type": "execute_result"
    }
   ],
   "source": [
    "total = profit + cost\n",
    "total\n"
   ]
  },
  {
   "cell_type": "code",
   "execution_count": 61,
   "metadata": {},
   "outputs": [],
   "source": [
    "def add (profit, cost):\n",
    "    return profit + cost    "
   ]
  },
  {
   "cell_type": "code",
   "execution_count": 62,
   "metadata": {},
   "outputs": [
    {
     "name": "stdout",
     "output_type": "stream",
     "text": [
      "39634\n"
     ]
    }
   ],
   "source": [
    "addition = add (profit,cost)\n",
    "print (addition)"
   ]
  },
  {
   "cell_type": "code",
   "execution_count": 63,
   "metadata": {},
   "outputs": [
    {
     "name": "stdout",
     "output_type": "stream",
     "text": [
      "39634\n"
     ]
    }
   ],
   "source": [
    "def add(profit, cost):\n",
    "    revenue = profit + cost\n",
    "    print (revenue)\n",
    "add(profit,cost)"
   ]
  },
  {
   "cell_type": "code",
   "execution_count": 64,
   "metadata": {},
   "outputs": [],
   "source": [
    "def divide(profit, cost):\n",
    "    return profit/cost\n"
   ]
  },
  {
   "cell_type": "code",
   "execution_count": 65,
   "metadata": {},
   "outputs": [
    {
     "name": "stdout",
     "output_type": "stream",
     "text": [
      "6.034788782392616\n"
     ]
    }
   ],
   "source": [
    "    div2 = profit/cost\n",
    "    print(div2)"
   ]
  },
  {
   "cell_type": "code",
   "execution_count": 66,
   "metadata": {},
   "outputs": [
    {
     "name": "stdout",
     "output_type": "stream",
     "text": [
      "28366\n"
     ]
    }
   ],
   "source": [
    "def sub_name():\n",
    "    sub = profit - cost\n",
    "    print(sub)\n",
    "sub_name()"
   ]
  },
  {
   "cell_type": "code",
   "execution_count": 67,
   "metadata": {},
   "outputs": [
    {
     "name": "stdout",
     "output_type": "stream",
     "text": [
      "191556000\n"
     ]
    }
   ],
   "source": [
    "def multi_num():\n",
    "    multi = profit * cost\n",
    "    print(multi)\n",
    "multi_num()"
   ]
  },
  {
   "cell_type": "code",
   "execution_count": 68,
   "metadata": {},
   "outputs": [
    {
     "name": "stdout",
     "output_type": "stream",
     "text": [
      "6.034788782392616\n"
     ]
    }
   ],
   "source": [
    "def div_num():\n",
    "    div = profit/cost\n",
    "    print(div)\n",
    "div_num()"
   ]
  },
  {
   "cell_type": "code",
   "execution_count": 69,
   "metadata": {},
   "outputs": [
    {
     "name": "stdout",
     "output_type": "stream",
     "text": [
      "0 2 4 6 8 10 "
     ]
    }
   ],
   "source": [
    "for i in range (11):\n",
    "    if i % 2 == 0:\n",
    "        print(i, end= ' ')"
   ]
  },
  {
   "cell_type": "code",
   "execution_count": 70,
   "metadata": {},
   "outputs": [
    {
     "name": "stdout",
     "output_type": "stream",
     "text": [
      "23 is Invalid!\n"
     ]
    }
   ],
   "source": [
    "def is_even():\n",
    "    num = int(input('Enter number:'))\n",
    "    if num % 2 == 0 and num <= 11:\n",
    "        print(num, 'is Even')\n",
    "    elif num % 2 != 0 and num <= 11:\n",
    "        print(num,'is Odd')\n",
    "    else:\n",
    "        print(num, 'is Invalid!')  \n",
    "is_even()  "
   ]
  },
  {
   "cell_type": "code",
   "execution_count": 93,
   "metadata": {},
   "outputs": [
    {
     "name": "stdout",
     "output_type": "stream",
     "text": [
      "10 is Even\n"
     ]
    },
    {
     "data": {
      "text/plain": [
       "True"
      ]
     },
     "execution_count": 93,
     "metadata": {},
     "output_type": "execute_result"
    }
   ],
   "source": [
    "def is_even2():\n",
    "    num = int(input('Enter number: '))\n",
    "    \n",
    "    if num <= 11:\n",
    "        result = num % 2 == 0  # This will be True if even, False if odd\n",
    "        print(num, 'is Even' if result else 'is Odd')\n",
    "        return bool(result)  # Explicitly converting to boolean\n",
    "    else:\n",
    "        print(num, 'is Invalid!')\n",
    "        return None\n",
    "is_even2()"
   ]
  },
  {
   "cell_type": "code",
   "execution_count": 71,
   "metadata": {},
   "outputs": [
    {
     "name": "stdout",
     "output_type": "stream",
     "text": [
      "0\n",
      "2\n",
      "4\n",
      "6\n",
      "8\n",
      "10\n"
     ]
    }
   ],
   "source": [
    "def even():\n",
    "    number = input('Enter number: ')\n",
    "    for number in range(11):\n",
    "        if number % 2 == 0:\n",
    "            print(number)\n",
    "even()\n"
   ]
  },
  {
   "cell_type": "code",
   "execution_count": 83,
   "metadata": {},
   "outputs": [],
   "source": [
    "# Eric's\n",
    "def is_even():\n",
    "    number2 = int(input(\"Enter Number: \"))\n",
    "    if number2 not in range(1,11):\n",
    "        print(\"Please enter number from 1 to 10\")\n",
    "    else:\n",
    "        if number2 % 2 == 0:\n",
    "            return True\n",
    "        else:\n",
    "            return False"
   ]
  },
  {
   "cell_type": "code",
   "execution_count": 84,
   "metadata": {},
   "outputs": [
    {
     "data": {
      "text/plain": [
       "True"
      ]
     },
     "execution_count": 84,
     "metadata": {},
     "output_type": "execute_result"
    }
   ],
   "source": [
    "def even(number):\n",
    "    return number % 2 == 0\n",
    "even(20)"
   ]
  },
  {
   "cell_type": "code",
   "execution_count": 74,
   "metadata": {},
   "outputs": [],
   "source": [
    "a = 45\n",
    "b = 30\n",
    "\n",
    "n = 22/7\n",
    "r  = 7"
   ]
  },
  {
   "cell_type": "code",
   "execution_count": 75,
   "metadata": {},
   "outputs": [
    {
     "name": "stdout",
     "output_type": "stream",
     "text": [
      "75\n"
     ]
    }
   ],
   "source": [
    "# declare funtion that adds two numbers\n",
    "def adds_two_num():\n",
    "    c = a + b\n",
    "    print(c)\n",
    "adds_two_num()\n",
    "    \n",
    "    "
   ]
  },
  {
   "cell_type": "code",
   "execution_count": null,
   "metadata": {},
   "outputs": [
    {
     "name": "stdout",
     "output_type": "stream",
     "text": [
      "154.0\n"
     ]
    }
   ],
   "source": [
    "# Area of a circle is calculated as follows: area = π x r x r.\n",
    "# Write a function that calculates area_of_circle.\n",
    "π=3.142\n",
    "r=2  \n",
    "def area_of_circle(π,r):\n",
    "    return(π*r**2)\n",
    "area_of_circle=area_of_circle(π,r)\n",
    "area_of_circle"
   ]
  },
  {
   "cell_type": "code",
   "execution_count": null,
   "metadata": {},
   "outputs": [
    {
     "data": {
      "text/plain": [
       "12.568"
      ]
     },
     "execution_count": 77,
     "metadata": {},
     "output_type": "execute_result"
    }
   ],
   "source": [
    "# Write a function called add_all_nums which takes arbitrary \n",
    "# number of arguments and sums all the arguments.\n",
    "# Check if all the list items are number types.\n",
    "# If not do give a reasonable feedback.\n",
    "\n",
    "    "
   ]
  },
  {
   "cell_type": "code",
   "execution_count": 78,
   "metadata": {},
   "outputs": [
    {
     "name": "stdout",
     "output_type": "stream",
     "text": [
      "110.3\n"
     ]
    }
   ],
   "source": [
    "# Temperature in °C can be converted to °F using this formula: °F = (°C x 9/5) + 32. \n",
    "# Write a function which converts °C to °F, convert_celsius_to-fahrenheit.\n",
    "temp = 43.5\n",
    "def celsius_to_fahrenheit():\n",
    "    fahrenheit = ( temp * 9/5) + 32\n",
    "    print(fahrenheit)\n",
    "celsius_to_fahrenheit()"
   ]
  },
  {
   "cell_type": "code",
   "execution_count": 102,
   "metadata": {},
   "outputs": [],
   "source": [
    "Autumn = [\"Jan\", \"Feb\", \"Mar\"]\n",
    "Winter = [\"Apr\", \"May\", \"Jun\"]\n",
    "Spring = [\"Jul\", \"Aug\", \"Sep\"]\n",
    "Summer = [\"Oct\", \"Nov\", \"Dec\"]"
   ]
  },
  {
   "cell_type": "code",
   "execution_count": null,
   "metadata": {},
   "outputs": [
    {
     "ename": "TypeError",
     "evalue": "check_season() takes 0 positional arguments but 1 was given",
     "output_type": "error",
     "traceback": [
      "\u001b[31m---------------------------------------------------------------------------\u001b[39m",
      "\u001b[31mTypeError\u001b[39m                                 Traceback (most recent call last)",
      "\u001b[36mCell\u001b[39m\u001b[36m \u001b[39m\u001b[32mIn[103]\u001b[39m\u001b[32m, line 17\u001b[39m\n\u001b[32m     14\u001b[39m     \u001b[38;5;28;01melse\u001b[39;00m:\n\u001b[32m     15\u001b[39m         \u001b[38;5;28mprint\u001b[39m(\u001b[33m\"\u001b[39m\u001b[33mInvalid month\u001b[39m\u001b[33m\"\u001b[39m)\n\u001b[32m---> \u001b[39m\u001b[32m17\u001b[39m \u001b[43mcheck_season\u001b[49m\u001b[43m(\u001b[49m\u001b[33;43m\"\u001b[39;49m\u001b[33;43mJan\u001b[39;49m\u001b[33;43m\"\u001b[39;49m\u001b[43m)\u001b[49m\n",
      "\u001b[31mTypeError\u001b[39m: check_season() takes 0 positional arguments but 1 was given"
     ]
    }
   ],
   "source": [
    "# Write a function called check-season, it takes a month parameter \n",
    "# and returns the season: Autumn, Winter, Spring or Summer.\n",
    "def check_season():\n",
    "   \n",
    "    Autumn = [\"Jan\", \"Feb\", \"Mar\"]\n",
    "    Winter = [\"Apr\", \"May\", \"Jun\"]\n",
    "    Spring = [\"Jul\", \"Aug\", \"Sep\"]\n",
    "    Summer = [\"Oct\", \"Nov\", \"Dec\"]\n",
    "    if month in Autumn:\n",
    "        print(\"Autumn\")\n",
    "    elif month in Winter:\n",
    "        print(\"Winter\")\n",
    "    elif month in Spring:\n",
    "        print(\"Spring\")\n",
    "    elif month in Summer:\n",
    "        print(\"Summer\")\n",
    "    else:\n",
    "        print(\"Invalid month\")\n",
    "\n",
    "check_season(\"Jan\")"
   ]
  },
  {
   "cell_type": "code",
   "execution_count": null,
   "metadata": {},
   "outputs": [],
   "source": [
    "def check_season2():\n",
    "    "
   ]
  },
  {
   "cell_type": "code",
   "execution_count": null,
   "metadata": {},
   "outputs": [],
   "source": [
    "# Write a function called calculate_slope \n",
    "# which return the slope of a linear equation \n",
    "def calculate_slope(x1,x2,y1,y2):\n",
    "    if (x1-x2) == 0:\n",
    "        return \"undefined\"\n",
    "    return(y2-y1) / (x2-x1)"
   ]
  },
  {
   "cell_type": "code",
   "execution_count": 90,
   "metadata": {},
   "outputs": [],
   "source": [
    "# Quadratic equation is calculated as follows: ax² + bx + c = 0. \n",
    "# Write a function which calculates solution set of a quadratic equation, solve_quadratic_eqn.\n",
    "import math \n",
    "def equationroots( a, b, c): \n",
    "\n",
    "    discri = (b * b - 4 * a * c )\n",
    "\n",
    "    sqrtval = math.sqrt(abs(discri))\n",
    "# checking condition for discriminant\n",
    "\n",
    "    if discri > 0: \n",
    "\n",
    "        print(\" real and different roots \") \n",
    "\n",
    "        print((-b + sqrtval)/(2 * a)) \n",
    "\n",
    "        print((-b - sqrtval)/(2 * a)) \n",
    "\n",
    "      \n",
    "\n",
    "    elif discri == 0: \n",
    "\n",
    "        print(\" real and same roots\") \n",
    "\n",
    "        print(-b / (2 * a)) \n",
    "\n",
    "      \n",
    "\n",
    "    # when discriminant is less than 0\n",
    "\n",
    "    else:\n",
    "\n",
    "        print(\"Complex Roots\") \n",
    "\n",
    "        print(- b / (2 * a), \" + i\", sqrtval) \n",
    "\n",
    "        print(- b / (2 * a), \" - i\", sqrtval)\n",
    "\n",
    "\n",
    "        "
   ]
  },
  {
   "cell_type": "code",
   "execution_count": null,
   "metadata": {},
   "outputs": [
    {
     "data": {
      "text/plain": [
       "['Toyota', 'Isuzu', 'Honda', 'Audi', 'Subaru']"
      ]
     },
     "execution_count": 55,
     "metadata": {},
     "output_type": "execute_result"
    }
   ],
   "source": [
    "# Declare a function named print_list.\n",
    "# It takes a list as a parameter and it prints out each element of the list.\n",
    "cars_yard = [\"Toyota\",\"Isuzu\",\"Honda\",\"Audi\",\"Subaru\"]\n",
    "\n",
    "def print_list(cars_yard):\n",
    "    return (cars_yard)\n",
    "print_list=print_list(cars_yard)\n",
    "print_list"
   ]
  },
  {
   "cell_type": "code",
   "execution_count": null,
   "metadata": {},
   "outputs": [],
   "source": []
  },
  {
   "cell_type": "code",
   "execution_count": null,
   "metadata": {},
   "outputs": [],
   "source": []
  },
  {
   "cell_type": "code",
   "execution_count": null,
   "metadata": {},
   "outputs": [],
   "source": []
  }
 ],
 "metadata": {
  "kernelspec": {
   "display_name": "Python 3",
   "language": "python",
   "name": "python3"
  },
  "language_info": {
   "codemirror_mode": {
    "name": "ipython",
    "version": 3
   },
   "file_extension": ".py",
   "mimetype": "text/x-python",
   "name": "python",
   "nbconvert_exporter": "python",
   "pygments_lexer": "ipython3",
   "version": "3.13.2"
  }
 },
 "nbformat": 4,
 "nbformat_minor": 2
}

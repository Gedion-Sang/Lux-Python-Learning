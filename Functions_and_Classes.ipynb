{
 "cells": [
  {
   "cell_type": "markdown",
   "metadata": {},
   "source": [
    "FUNCTIONS\n",
    "\n",
    "- len(), type(), print() are functions that take arguments\n",
    "\n",
    "DEFINING FUNCTIONS\n",
    "- we use the def keyword\n"
   ]
  },
  {
   "cell_type": "code",
   "execution_count": 59,
   "metadata": {},
   "outputs": [],
   "source": [
    "profit = 34000\n",
    "cost = 5634\n"
   ]
  },
  {
   "cell_type": "code",
   "execution_count": 60,
   "metadata": {},
   "outputs": [
    {
     "data": {
      "text/plain": [
       "39634"
      ]
     },
     "execution_count": 60,
     "metadata": {},
     "output_type": "execute_result"
    }
   ],
   "source": [
    "total = profit + cost\n",
    "total\n"
   ]
  },
  {
   "cell_type": "code",
   "execution_count": 61,
   "metadata": {},
   "outputs": [],
   "source": [
    "def add (profit, cost):\n",
    "    return profit + cost    "
   ]
  },
  {
   "cell_type": "code",
   "execution_count": 62,
   "metadata": {},
   "outputs": [
    {
     "name": "stdout",
     "output_type": "stream",
     "text": [
      "39634\n"
     ]
    }
   ],
   "source": [
    "addition = add (profit,cost)\n",
    "print (addition)"
   ]
  },
  {
   "cell_type": "code",
   "execution_count": 63,
   "metadata": {},
   "outputs": [
    {
     "name": "stdout",
     "output_type": "stream",
     "text": [
      "39634\n"
     ]
    }
   ],
   "source": [
    "def add(profit, cost):\n",
    "    revenue = profit + cost\n",
    "    print (revenue)\n",
    "add(profit,cost)"
   ]
  },
  {
   "cell_type": "code",
   "execution_count": 64,
   "metadata": {},
   "outputs": [],
   "source": [
    "def divide(profit, cost):\n",
    "    return profit/cost\n"
   ]
  },
  {
   "cell_type": "code",
   "execution_count": 110,
   "metadata": {},
   "outputs": [
    {
     "name": "stdout",
     "output_type": "stream",
     "text": [
      "6.034788782392616\n"
     ]
    }
   ],
   "source": [
    "div2 = profit/cost\n",
    "print(div2)"
   ]
  },
  {
   "cell_type": "code",
   "execution_count": 66,
   "metadata": {},
   "outputs": [
    {
     "name": "stdout",
     "output_type": "stream",
     "text": [
      "28366\n"
     ]
    }
   ],
   "source": [
    "def sub_name():\n",
    "    sub = profit - cost\n",
    "    print(sub)\n",
    "sub_name()"
   ]
  },
  {
   "cell_type": "code",
   "execution_count": 67,
   "metadata": {},
   "outputs": [
    {
     "name": "stdout",
     "output_type": "stream",
     "text": [
      "191556000\n"
     ]
    }
   ],
   "source": [
    "def multi_num():\n",
    "    multi = profit * cost\n",
    "    print(multi)\n",
    "multi_num()"
   ]
  },
  {
   "cell_type": "code",
   "execution_count": 68,
   "metadata": {},
   "outputs": [
    {
     "name": "stdout",
     "output_type": "stream",
     "text": [
      "6.034788782392616\n"
     ]
    }
   ],
   "source": [
    "def div_num():\n",
    "    div = profit/cost\n",
    "    print(div)\n",
    "div_num()"
   ]
  },
  {
   "cell_type": "code",
   "execution_count": 69,
   "metadata": {},
   "outputs": [
    {
     "name": "stdout",
     "output_type": "stream",
     "text": [
      "0 2 4 6 8 10 "
     ]
    }
   ],
   "source": [
    "for i in range (11):\n",
    "    if i % 2 == 0:\n",
    "        print(i, end= ' ')"
   ]
  },
  {
   "cell_type": "code",
   "execution_count": 70,
   "metadata": {},
   "outputs": [
    {
     "name": "stdout",
     "output_type": "stream",
     "text": [
      "23 is Invalid!\n"
     ]
    }
   ],
   "source": [
    "def is_even():\n",
    "    num = int(input('Enter number:'))\n",
    "    if num % 2 == 0 and num <= 11:\n",
    "        print(num, 'is Even')\n",
    "    elif num % 2 != 0 and num <= 11:\n",
    "        print(num,'is Odd')\n",
    "    else:\n",
    "        print(num, 'is Invalid!')  \n",
    "is_even()  "
   ]
  },
  {
   "cell_type": "code",
   "execution_count": 93,
   "metadata": {},
   "outputs": [
    {
     "name": "stdout",
     "output_type": "stream",
     "text": [
      "10 is Even\n"
     ]
    },
    {
     "data": {
      "text/plain": [
       "True"
      ]
     },
     "execution_count": 93,
     "metadata": {},
     "output_type": "execute_result"
    }
   ],
   "source": [
    "def is_even2():\n",
    "    num = int(input('Enter number: '))\n",
    "    \n",
    "    if num <= 11:\n",
    "        result = num % 2 == 0  # This will be True if even, False if odd\n",
    "        print(num, 'is Even' if result else 'is Odd')\n",
    "        return bool(result)  # Explicitly converting to boolean\n",
    "    else:\n",
    "        print(num, 'is Invalid!')\n",
    "        return None\n",
    "is_even2()"
   ]
  },
  {
   "cell_type": "code",
   "execution_count": 71,
   "metadata": {},
   "outputs": [
    {
     "name": "stdout",
     "output_type": "stream",
     "text": [
      "0\n",
      "2\n",
      "4\n",
      "6\n",
      "8\n",
      "10\n"
     ]
    }
   ],
   "source": [
    "def even():\n",
    "    number = input('Enter number: ')\n",
    "    for number in range(11):\n",
    "        if number % 2 == 0:\n",
    "            print(number)\n",
    "even()\n"
   ]
  },
  {
   "cell_type": "code",
   "execution_count": 83,
   "metadata": {},
   "outputs": [],
   "source": [
    "# Eric's\n",
    "def is_even():\n",
    "    number2 = int(input(\"Enter Number: \"))\n",
    "    if number2 not in range(1,11):\n",
    "        print(\"Please enter number from 1 to 10\")\n",
    "    else:\n",
    "        if number2 % 2 == 0:\n",
    "            return True\n",
    "        else:\n",
    "            return False"
   ]
  },
  {
   "cell_type": "code",
   "execution_count": 84,
   "metadata": {},
   "outputs": [
    {
     "data": {
      "text/plain": [
       "True"
      ]
     },
     "execution_count": 84,
     "metadata": {},
     "output_type": "execute_result"
    }
   ],
   "source": [
    "def even(number):\n",
    "    return number % 2 == 0\n",
    "even(20)"
   ]
  },
  {
   "cell_type": "code",
   "execution_count": 74,
   "metadata": {},
   "outputs": [],
   "source": [
    "a = 45\n",
    "b = 30\n",
    "\n",
    "n = 22/7\n",
    "r  = 7"
   ]
  },
  {
   "cell_type": "code",
   "execution_count": 75,
   "metadata": {},
   "outputs": [
    {
     "name": "stdout",
     "output_type": "stream",
     "text": [
      "75\n"
     ]
    }
   ],
   "source": [
    "# declare funtion that adds two numbers\n",
    "def adds_two_num():\n",
    "    c = a + b\n",
    "    print(c)\n",
    "adds_two_num()\n",
    "    \n",
    "    "
   ]
  },
  {
   "cell_type": "code",
   "execution_count": null,
   "metadata": {},
   "outputs": [
    {
     "name": "stdout",
     "output_type": "stream",
     "text": [
      "154.0\n"
     ]
    }
   ],
   "source": [
    "# Area of a circle is calculated as follows: area = π x r x r.\n",
    "# Write a function that calculates area_of_circle.\n",
    "π=3.142\n",
    "r=2  \n",
    "def area_of_circle(π,r):\n",
    "    return(π*r**2)\n",
    "area_of_circle=area_of_circle(π,r)\n",
    "area_of_circle"
   ]
  },
  {
   "cell_type": "code",
   "execution_count": null,
   "metadata": {},
   "outputs": [
    {
     "data": {
      "text/plain": [
       "12.568"
      ]
     },
     "execution_count": 77,
     "metadata": {},
     "output_type": "execute_result"
    }
   ],
   "source": [
    "# Write a function called add_all_nums which takes arbitrary \n",
    "# number of arguments and sums all the arguments.\n",
    "# Check if all the list items are number types.\n",
    "# If not do give a reasonable feedback.\n",
    "\n",
    "    "
   ]
  },
  {
   "cell_type": "code",
   "execution_count": 78,
   "metadata": {},
   "outputs": [
    {
     "name": "stdout",
     "output_type": "stream",
     "text": [
      "110.3\n"
     ]
    }
   ],
   "source": [
    "# Temperature in °C can be converted to °F using this formula: °F = (°C x 9/5) + 32. \n",
    "# Write a function which converts °C to °F, convert_celsius_to-fahrenheit.\n",
    "temp = 43.5\n",
    "def celsius_to_fahrenheit():\n",
    "    fahrenheit = ( temp * 9/5) + 32\n",
    "    print(fahrenheit)\n",
    "celsius_to_fahrenheit()"
   ]
  },
  {
   "cell_type": "code",
   "execution_count": 102,
   "metadata": {},
   "outputs": [],
   "source": [
    "Autumn = [\"Jan\", \"Feb\", \"Mar\"]\n",
    "Winter = [\"Apr\", \"May\", \"Jun\"]\n",
    "Spring = [\"Jul\", \"Aug\", \"Sep\"]\n",
    "Summer = [\"Oct\", \"Nov\", \"Dec\"]"
   ]
  },
  {
   "cell_type": "code",
   "execution_count": 109,
   "metadata": {},
   "outputs": [
    {
     "name": "stdout",
     "output_type": "stream",
     "text": [
      "Autumn\n"
     ]
    }
   ],
   "source": [
    "# Write a function called check-season, it takes a month parameter \n",
    "# and returns the season: Autumn, Winter, Spring or Summer.\n",
    "def check_season():\n",
    "   \n",
    "    Autumn = [\"Jan\", \"Feb\", \"Mar\"]\n",
    "    Winter = [\"Apr\", \"May\", \"Jun\"]\n",
    "    Spring = [\"Jul\", \"Aug\", \"Sep\"]\n",
    "    Summer = [\"Oct\", \"Nov\", \"Dec\"]\n",
    "month = input('Enter month: ')\n",
    "if month in Autumn:\n",
    "    print(\"Autumn\")\n",
    "elif month in Winter:\n",
    "    print(\"Winter\")\n",
    "elif month in Spring:\n",
    "    print(\"Spring\")\n",
    "elif month in Summer:\n",
    "    print(\"Summer\")\n",
    "else:\n",
    "    print(\"Invalid month\")\n",
    "\n",
    "check_season()"
   ]
  },
  {
   "cell_type": "code",
   "execution_count": null,
   "metadata": {},
   "outputs": [],
   "source": [
    "# Write a function called calculate_slope \n",
    "# which return the slope of a linear equation \n",
    "def calculate_slope(x1,x2,y1,y2):\n",
    "    if (x1-x2) == 0:\n",
    "        return \"undefined\"\n",
    "    return(y2-y1) / (x2-x1)"
   ]
  },
  {
   "cell_type": "code",
   "execution_count": 90,
   "metadata": {},
   "outputs": [],
   "source": [
    "# Quadratic equation is calculated as follows: ax² + bx + c = 0. \n",
    "# Write a function which calculates solution set of a quadratic equation, solve_quadratic_eqn.\n",
    "import math \n",
    "def equationroots( a, b, c): \n",
    "\n",
    "    discri = (b * b - 4 * a * c )\n",
    "\n",
    "    sqrtval = math.sqrt(abs(discri))\n",
    "# checking condition for discriminant\n",
    "\n",
    "    if discri > 0: \n",
    "\n",
    "        print(\" real and different roots \") \n",
    "\n",
    "        print((-b + sqrtval)/(2 * a)) \n",
    "\n",
    "        print((-b - sqrtval)/(2 * a)) \n",
    "\n",
    "      \n",
    "\n",
    "    elif discri == 0: \n",
    "\n",
    "        print(\" real and same roots\") \n",
    "\n",
    "        print(-b / (2 * a)) \n",
    "\n",
    "      \n",
    "\n",
    "    # when discriminant is less than 0\n",
    "\n",
    "    else:\n",
    "\n",
    "        print(\"Complex Roots\") \n",
    "\n",
    "        print(- b / (2 * a), \" + i\", sqrtval) \n",
    "\n",
    "        print(- b / (2 * a), \" - i\", sqrtval)\n",
    "\n",
    "\n",
    "        "
   ]
  },
  {
   "cell_type": "code",
   "execution_count": null,
   "metadata": {},
   "outputs": [
    {
     "data": {
      "text/plain": [
       "['Toyota', 'Isuzu', 'Honda', 'Audi', 'Subaru']"
      ]
     },
     "execution_count": 55,
     "metadata": {},
     "output_type": "execute_result"
    }
   ],
   "source": [
    "# Declare a function named print_list.\n",
    "# It takes a list as a parameter and it prints out each element of the list.\n",
    "cars_yard = [\"Toyota\",\"Isuzu\",\"Honda\",\"Audi\",\"Subaru\"]\n",
    "\n",
    "def print_list(cars_yard):\n",
    "    return (cars_yard)\n",
    "print_list=print_list(cars_yard)\n",
    "print_list"
   ]
  },
  {
   "cell_type": "code",
   "execution_count": 2,
   "metadata": {},
   "outputs": [
    {
     "name": "stdout",
     "output_type": "stream",
     "text": [
      "Heyy:)!\n"
     ]
    }
   ],
   "source": [
    "# function that returns a greeting\n",
    "def greet():\n",
    "    print('Heyy:)!')\n",
    "greet()"
   ]
  },
  {
   "cell_type": "code",
   "execution_count": null,
   "metadata": {},
   "outputs": [
    {
     "name": "stdout",
     "output_type": "stream",
     "text": [
      "Value of multiplication =  6000\n"
     ]
    },
    {
     "data": {
      "text/plain": [
       "6000"
      ]
     },
     "execution_count": 7,
     "metadata": {},
     "output_type": "execute_result"
    }
   ],
   "source": [
    "a = 2000\n",
    "b = 3\n",
    "def multi_add():\n",
    "    multi = a * b\n",
    "    print(\"Value of multiplication = \", multi)\n",
    "    return multi\n",
    "\n",
    "    addi = a + b\n",
    "    print(\"Value of addition = \",addi)\n",
    "    return addi\n",
    "multi_add()"
   ]
  },
  {
   "cell_type": "code",
   "execution_count": 8,
   "metadata": {},
   "outputs": [
    {
     "data": {
      "text/plain": [
       "666.6666666666666"
      ]
     },
     "execution_count": 8,
     "metadata": {},
     "output_type": "execute_result"
    }
   ],
   "source": [
    "def division():\n",
    "    return a/b\n",
    "division()"
   ]
  },
  {
   "cell_type": "code",
   "execution_count": 12,
   "metadata": {},
   "outputs": [
    {
     "data": {
      "text/plain": [
       "'My name is Ezra and I am 24 years young :)'"
      ]
     },
     "execution_count": 12,
     "metadata": {},
     "output_type": "execute_result"
    }
   ],
   "source": [
    "def age_name(name, age):\n",
    "    return f\"My name is {name} and I am {age} years young :)\"\n",
    "age_name('Ezra', 24)\n",
    "    "
   ]
  },
  {
   "cell_type": "code",
   "execution_count": 13,
   "metadata": {},
   "outputs": [],
   "source": [
    "R = 45000\n",
    "C = 30000\n"
   ]
  },
  {
   "cell_type": "code",
   "execution_count": 14,
   "metadata": {},
   "outputs": [],
   "source": [
    "def profit(R,C):\n",
    "    return f'Hello customer, your profit is: {R - C}'"
   ]
  },
  {
   "cell_type": "code",
   "execution_count": 15,
   "metadata": {},
   "outputs": [
    {
     "data": {
      "text/plain": [
       "'Hello customer, your profit is: 15000'"
      ]
     },
     "execution_count": 15,
     "metadata": {},
     "output_type": "execute_result"
    }
   ],
   "source": [
    "profit(R,C)"
   ]
  },
  {
   "cell_type": "code",
   "execution_count": 16,
   "metadata": {},
   "outputs": [
    {
     "data": {
      "text/plain": [
       "'Hello customer, your profit is: 15000'"
      ]
     },
     "execution_count": 16,
     "metadata": {},
     "output_type": "execute_result"
    }
   ],
   "source": [
    "R = 45000\n",
    "C = 30000\n",
    "def profit(R,C):\n",
    "    return f'Hello customer, your profit is: {R - C}'\n",
    "profit(R,C)"
   ]
  },
  {
   "cell_type": "markdown",
   "metadata": {},
   "source": [
    "Lambda Functions\n",
    "- Lambda functions are anonymous, single-expression functions.\n"
   ]
  },
  {
   "cell_type": "code",
   "execution_count": 17,
   "metadata": {},
   "outputs": [],
   "source": [
    "# square using lambda function\n",
    "x = 4\n",
    "y = 6"
   ]
  },
  {
   "cell_type": "code",
   "execution_count": 21,
   "metadata": {},
   "outputs": [
    {
     "data": {
      "text/plain": [
       "16"
      ]
     },
     "execution_count": 21,
     "metadata": {},
     "output_type": "execute_result"
    }
   ],
   "source": [
    "square = lambda y: x * x\n",
    "square(4)"
   ]
  },
  {
   "cell_type": "code",
   "execution_count": 22,
   "metadata": {},
   "outputs": [
    {
     "data": {
      "text/plain": [
       "2"
      ]
     },
     "execution_count": 22,
     "metadata": {},
     "output_type": "execute_result"
    }
   ],
   "source": [
    "square = lambda x,y: x-y\n",
    "square(6,4)"
   ]
  },
  {
   "cell_type": "code",
   "execution_count": 23,
   "metadata": {},
   "outputs": [],
   "source": [
    "name_age = lambda name, age: f\"Your name is {name} and my age-mate is (age) years old!\"\n",
    "name = input(\"Enter name: \")\n",
    "age = int(input(\"Enter age: \"))"
   ]
  },
  {
   "cell_type": "code",
   "execution_count": 25,
   "metadata": {},
   "outputs": [
    {
     "data": {
      "text/plain": [
       "'Your name is Grace and my age-mate is (age) years old!'"
      ]
     },
     "execution_count": 25,
     "metadata": {},
     "output_type": "execute_result"
    }
   ],
   "source": [
    "name_age(name, age)"
   ]
  },
  {
   "cell_type": "markdown",
   "metadata": {},
   "source": [
    "Recursive Functions\n",
    "- is a function that calls itself"
   ]
  },
  {
   "cell_type": "code",
   "execution_count": 6,
   "metadata": {},
   "outputs": [
    {
     "data": {
      "text/plain": [
       "720"
      ]
     },
     "execution_count": 6,
     "metadata": {},
     "output_type": "execute_result"
    }
   ],
   "source": [
    "def factorial(n):\n",
    "    if n == 0:\n",
    "        return 1\n",
    "    return n * factorial(n-1)\n",
    "factorial(6) # 1*2*3*4*5*6"
   ]
  },
  {
   "cell_type": "markdown",
   "metadata": {},
   "source": [
    "Function Annotations\n",
    "- allow us to specify types for function parameters and return values"
   ]
  },
  {
   "cell_type": "code",
   "execution_count": 13,
   "metadata": {},
   "outputs": [
    {
     "data": {
      "text/plain": [
       "float"
      ]
     },
     "execution_count": 13,
     "metadata": {},
     "output_type": "execute_result"
    }
   ],
   "source": [
    "def prof_calc(revenue: float, cost: float) -> float:\n",
    "    return revenue - cost\n",
    "prof_calc(6000.34,484.34)\n",
    "type(prof_calc(6000.34,484.34))\n",
    "\n"
   ]
  },
  {
   "cell_type": "code",
   "execution_count": 14,
   "metadata": {},
   "outputs": [
    {
     "data": {
      "text/plain": [
       "5516.0"
      ]
     },
     "execution_count": 14,
     "metadata": {},
     "output_type": "execute_result"
    }
   ],
   "source": [
    "prof_calc(6000.34,484.34)"
   ]
  },
  {
   "cell_type": "markdown",
   "metadata": {},
   "source": [
    "LIST COMPREHENSION\n",
    "- faster way of printing out the items in a list\n",
    "> syntax:\n",
    "--- i for i in an iterable if expression"
   ]
  },
  {
   "cell_type": "code",
   "execution_count": 1,
   "metadata": {},
   "outputs": [
    {
     "name": "stdout",
     "output_type": "stream",
     "text": [
      "['apple', 'mangoes', 'tomatoes']\n",
      "['apple', 'mangoes', 'tomatoes']\n",
      "['apple', 'mangoes', 'tomatoes']\n"
     ]
    }
   ],
   "source": [
    "fruits = ['apple', 'mangoes','tomatoes']\n",
    "for fruit in fruits:\n",
    "    print(fruits)"
   ]
  },
  {
   "cell_type": "code",
   "execution_count": 4,
   "metadata": {},
   "outputs": [
    {
     "data": {
      "text/plain": [
       "['P', 'y', 't', 'h', 'o', 'n']"
      ]
     },
     "execution_count": 4,
     "metadata": {},
     "output_type": "execute_result"
    }
   ],
   "source": [
    "# change a string to a list of characters\n",
    "language = 'Python'\n",
    "lst = list(language)\n",
    "lst"
   ]
  },
  {
   "cell_type": "code",
   "execution_count": 3,
   "metadata": {},
   "outputs": [
    {
     "data": {
      "text/plain": [
       "[0, 1, 2, 3, 4, 5, 6, 7, 8, 9, 10]"
      ]
     },
     "execution_count": 3,
     "metadata": {},
     "output_type": "execute_result"
    }
   ],
   "source": [
    "# gen a list of numbers\n",
    "numbers = [ n for n in range(0,11)]\n",
    "numbers"
   ]
  },
  {
   "cell_type": "code",
   "execution_count": null,
   "metadata": {},
   "outputs": [
    {
     "data": {
      "text/plain": [
       "list"
      ]
     },
     "execution_count": 15,
     "metadata": {},
     "output_type": "execute_result"
    }
   ],
   "source": [
    "# get squares of numbers\n",
    "# squares = number ** 2\n",
    "numbers = [n * n for n in range(0,11)]\n",
    "numbers"
   ]
  },
  {
   "cell_type": "code",
   "execution_count": 17,
   "metadata": {},
   "outputs": [
    {
     "data": {
      "text/plain": [
       "[(0, 0),\n",
       " (1, 1),\n",
       " (2, 4),\n",
       " (3, 9),\n",
       " (4, 16),\n",
       " (5, 25),\n",
       " (6, 36),\n",
       " (7, 49),\n",
       " (8, 64),\n",
       " (9, 81),\n",
       " (10, 100)]"
      ]
     },
     "execution_count": 17,
     "metadata": {},
     "output_type": "execute_result"
    }
   ],
   "source": [
    "# get squares and store them in a tuple\n",
    "numbers = [(n,n * n) for n in range(0,11)]\n",
    "numbers"
   ]
  },
  {
   "cell_type": "code",
   "execution_count": 8,
   "metadata": {},
   "outputs": [
    {
     "data": {
      "text/plain": [
       "[0, 2, 4, 6, 8, 10, 12, 14, 16, 18, 20]"
      ]
     },
     "execution_count": 8,
     "metadata": {},
     "output_type": "execute_result"
    }
   ],
   "source": [
    "# get sum of numbers\n",
    "numbers = [ n + n for n in range(0,11)]\n",
    "numbers"
   ]
  },
  {
   "cell_type": "markdown",
   "metadata": {},
   "source": [
    "LIST COMPREHENSION WITH IF STATEMENT"
   ]
  },
  {
   "cell_type": "code",
   "execution_count": 18,
   "metadata": {},
   "outputs": [
    {
     "data": {
      "text/plain": [
       "[0, 2, 4, 6, 8, 10, 12, 14, 16, 18, 20]"
      ]
     },
     "execution_count": 18,
     "metadata": {},
     "output_type": "execute_result"
    }
   ],
   "source": [
    "even = [ i for i in range(21) if i % 2 == 0]\n",
    "even"
   ]
  },
  {
   "cell_type": "code",
   "execution_count": 19,
   "metadata": {},
   "outputs": [
    {
     "data": {
      "text/plain": [
       "[1, 3, 5, 7, 9, 11, 13, 15, 17, 19]"
      ]
     },
     "execution_count": 19,
     "metadata": {},
     "output_type": "execute_result"
    }
   ],
   "source": [
    "odd = [i for i in range (21) if i % 2 != 0]\n",
    "odd"
   ]
  },
  {
   "cell_type": "code",
   "execution_count": 20,
   "metadata": {},
   "outputs": [],
   "source": [
    "# \n",
    "nums = [-8,-5,-2,1,4,7]\n"
   ]
  },
  {
   "cell_type": "code",
   "execution_count": 23,
   "metadata": {},
   "outputs": [
    {
     "data": {
      "text/plain": [
       "[4]"
      ]
     },
     "execution_count": 23,
     "metadata": {},
     "output_type": "execute_result"
    }
   ],
   "source": [
    "positive_nums = [ i for i in nums if i % 2 == 0 and i > 0]\n",
    "positive_nums"
   ]
  },
  {
   "cell_type": "code",
   "execution_count": 25,
   "metadata": {},
   "outputs": [
    {
     "data": {
      "text/plain": [
       "[-5]"
      ]
     },
     "execution_count": 25,
     "metadata": {},
     "output_type": "execute_result"
    }
   ],
   "source": [
    "negative_nums = [ i for i in nums if i % 2 != 0 and i < 0]\n",
    "negative_nums"
   ]
  },
  {
   "cell_type": "code",
   "execution_count": 27,
   "metadata": {},
   "outputs": [
    {
     "data": {
      "text/plain": [
       "[[1, 2, 3], [4, 5, 6], [7, 8, 9]]"
      ]
     },
     "execution_count": 27,
     "metadata": {},
     "output_type": "execute_result"
    }
   ],
   "source": [
    "list_list = [[1,2,3],[4,5,6],[7,8,9]]\n",
    "list_list"
   ]
  },
  {
   "cell_type": "code",
   "execution_count": 28,
   "metadata": {},
   "outputs": [
    {
     "data": {
      "text/plain": [
       "[10, 20, 30, 40, 50, 60, 70, 80, 90]"
      ]
     },
     "execution_count": 28,
     "metadata": {},
     "output_type": "execute_result"
    }
   ],
   "source": [
    "flat_list = [ number * 10 for row in list_list for number in row]\n",
    "flat_list"
   ]
  },
  {
   "cell_type": "code",
   "execution_count": 33,
   "metadata": {},
   "outputs": [
    {
     "data": {
      "text/plain": [
       "['Kenya', 'Uganda', 'Tanzania', 'Rwanda', 'Burundi']"
      ]
     },
     "execution_count": 33,
     "metadata": {},
     "output_type": "execute_result"
    }
   ],
   "source": [
    "countries = [ 'Kenya','uganda', 'tanzania','Rwanda','burundi']\n",
    "countries_1 = [ words.capitalize() for words in countries]\n",
    "countries_1"
   ]
  },
  {
   "cell_type": "code",
   "execution_count": null,
   "metadata": {},
   "outputs": [
    {
     "data": {
      "text/plain": [
       "[-4, -3, -2, -1, 0]"
      ]
     },
     "execution_count": 35,
     "metadata": {},
     "output_type": "execute_result"
    }
   ],
   "source": [
    "# \n",
    "num_list = [ -4,-3,-2,-1,0,2,4,6]\n",
    "neg_zero =[i for i in num_list if i <= 0]\n",
    "neg_zero"
   ]
  },
  {
   "cell_type": "code",
   "execution_count": 62,
   "metadata": {},
   "outputs": [
    {
     "data": {
      "text/plain": [
       "[1, 2, 3, 4, 5, 6, 7, 8, 9]"
      ]
     },
     "execution_count": 62,
     "metadata": {},
     "output_type": "execute_result"
    }
   ],
   "source": [
    "list_of_lists = [[[1,2,3]],[[4,5,6]],[[7,8,9]]]\n",
    "flatten_list = [number for sublist1 in list_of_lists for sublist2 in sublist1 for number in sublist2]\n",
    "flatten_list"
   ]
  },
  {
   "cell_type": "code",
   "execution_count": 65,
   "metadata": {},
   "outputs": [
    {
     "data": {
      "text/plain": [
       "[(0, 1, 0, 0, 0, 0, 0),\n",
       " (1, 1, 1, 1, 1, 1, 1),\n",
       " (2, 1, 2, 4, 8, 16, 32),\n",
       " (3, 1, 3, 9, 27, 81, 243),\n",
       " (4, 1, 4, 16, 64, 256, 1024),\n",
       " (5, 1, 5, 25, 125, 625, 3125),\n",
       " (6, 1, 6, 36, 216, 1296, 7776),\n",
       " (7, 1, 7, 49, 343, 2401, 16807),\n",
       " (8, 1, 8, 64, 512, 4096, 32768),\n",
       " (9, 1, 9, 81, 729, 6561, 59049),\n",
       " (10, 1, 10, 100, 1000, 10000, 100000)]"
      ]
     },
     "execution_count": 65,
     "metadata": {},
     "output_type": "execute_result"
    }
   ],
   "source": [
    "values = [(0, 1, 0, 0, 0, 0, 0), (1, 1, 1, 1, 1, 1, 1), (2, 1, 2, 4, 8, 16, 32), (3, 1, 3, 9, 27, 81, 243), (4, 1, 4, 16, 64, 256, 1024), (5, 1, 5, 25, 125, 625, 3125), (6, 1, 6, 36, 216, 1296, 7776), (7, 1, 7, 49, 343, 2401, 16807), (8, 1, 8, 64, 512, 4096, 32768), (9, 1, 9, 81, 729, 6561, 59049), (10, 1, 10, 100, 1000, 10000, 100000)]\n",
    "tuples= [(i,1,i,i**2,i**3,i**4,i**5)for i in range(11)]\n",
    "tuples"
   ]
  },
  {
   "cell_type": "code",
   "execution_count": 68,
   "metadata": {},
   "outputs": [],
   "source": [
    "countries = [[('Finland', 'Helsinki')], [('Sweden', 'Stockholm')], [('Norway', 'Oslo')]]\n"
   ]
  },
  {
   "cell_type": "code",
   "execution_count": 70,
   "metadata": {},
   "outputs": [
    {
     "data": {
      "text/plain": [
       "[['FINLAND', 'FIN', 'HELSINKI'],\n",
       " ['SWEDEN', 'SWE', 'STOCKHOLM'],\n",
       " ['NORWAY', 'NOR', 'OSLO']]"
      ]
     },
     "execution_count": 70,
     "metadata": {},
     "output_type": "execute_result"
    }
   ],
   "source": [
    "flattened_list=[[country.upper(), country[:3].upper(), capital.upper()] for row in countries for country, capital in row]\n",
    "flattened_list\n"
   ]
  },
  {
   "cell_type": "code",
   "execution_count": 71,
   "metadata": {},
   "outputs": [
    {
     "data": {
      "text/plain": [
       "[{'country': 'FINLAND', 'city': 'HELSINKI'},\n",
       " {'country': 'SWEDEN', 'city': 'STOCKHOLM'},\n",
       " {'country': 'NORWAY', 'city': 'OSLO'}]"
      ]
     },
     "execution_count": 71,
     "metadata": {},
     "output_type": "execute_result"
    }
   ],
   "source": [
    "dict_countries = [{'country': country.upper(), 'city': city.upper()} for [(country, city)] in countries]\n",
    "dict_countries"
   ]
  },
  {
   "cell_type": "code",
   "execution_count": 75,
   "metadata": {},
   "outputs": [
    {
     "name": "stdout",
     "output_type": "stream",
     "text": [
      "Total earnings =  1625\n"
     ]
    }
   ],
   "source": [
    "hours = int(input('Provide the number of hours worked in a month: '))\n",
    "hourly_rate = 10\n",
    "overtime = 15\n",
    "if hours <= 160:\n",
    "  print('Total earnings = ', hours * hourly_rate)\n",
    "elif hours > 160:\n",
    "  print('Total earnings = ', ((hours * hourly_rate) + ((hours-160) * (overtime))))\n",
    "else:\n",
    "  print('Invalid')\n",
    "  print(hours)"
   ]
  }
 ],
 "metadata": {
  "kernelspec": {
   "display_name": "Python 3",
   "language": "python",
   "name": "python3"
  },
  "language_info": {
   "codemirror_mode": {
    "name": "ipython",
    "version": 3
   },
   "file_extension": ".py",
   "mimetype": "text/x-python",
   "name": "python",
   "nbconvert_exporter": "python",
   "pygments_lexer": "ipython3",
   "version": "3.13.2"
  }
 },
 "nbformat": 4,
 "nbformat_minor": 2
}

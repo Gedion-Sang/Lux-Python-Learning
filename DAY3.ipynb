{
 "cells": [
  {
   "cell_type": "markdown",
   "metadata": {},
   "source": [
    "IF STATEMENTS\n",
    "- allows python to  execute a block of code only if the condition is true\n"
   ]
  },
  {
   "cell_type": "code",
   "execution_count": 16,
   "metadata": {},
   "outputs": [
    {
     "name": "stdout",
     "output_type": "stream",
     "text": [
      "Your age is 20 .You are an adult\n"
     ]
    }
   ],
   "source": [
    "# check age\n",
    "age =20\n",
    "if age >= 18:\n",
    "    print('Your age is',age,\".\"\"You are an adult\")\n",
    "\n"
   ]
  },
  {
   "cell_type": "code",
   "execution_count": 14,
   "metadata": {},
   "outputs": [],
   "source": [
    "# check if a number is positive\n",
    "number = -1\n",
    "if number > 0:\n",
    "    print(\"This is a positive number.\")"
   ]
  },
  {
   "cell_type": "code",
   "execution_count": 17,
   "metadata": {},
   "outputs": [
    {
     "name": "stdout",
     "output_type": "stream",
     "text": [
      "This is an even number.\n"
     ]
    }
   ],
   "source": [
    "# check if a number is even\n",
    "num =2\n",
    "if num % 2 == 0:\n",
    "    print(\"This is an even number.\")"
   ]
  },
  {
   "cell_type": "code",
   "execution_count": null,
   "metadata": {},
   "outputs": [
    {
     "name": "stdout",
     "output_type": "stream",
     "text": [
      "Start of the workweek.\n"
     ]
    }
   ],
   "source": [
    "# check if today is  a monday \n",
    "day = 'Monday'\n",
    "if day == 'Monday':\n",
    "    print(\"Start of the workweek.\")"
   ]
  },
  {
   "cell_type": "markdown",
   "metadata": {},
   "source": [
    "IF ELSE STATEMENT\n",
    "- allows us to specify two different conditions actions based on a condition"
   ]
  },
  {
   "cell_type": "code",
   "execution_count": 19,
   "metadata": {},
   "outputs": [
    {
     "name": "stdout",
     "output_type": "stream",
     "text": [
      "Your age is 20 .You are an adult\n"
     ]
    }
   ],
   "source": [
    "age = 20\n",
    "if age >= 18:\n",
    "    print('Your age is',age,\".\"\"You are an adult\")\n",
    "else:\n",
    "    print(\"You are not an adult\")"
   ]
  },
  {
   "cell_type": "code",
   "execution_count": null,
   "metadata": {},
   "outputs": [
    {
     "name": "stdout",
     "output_type": "stream",
     "text": [
      "This is a positive number.\n"
     ]
    }
   ],
   "source": [
    "# check if a number is positive\n",
    "number = 2\n",
    "if number > 0:\n",
    "    print(\"This is a positive number.\")\n",
    "else:\n",
    "    print(\"This is a negative number.\")"
   ]
  },
  {
   "cell_type": "code",
   "execution_count": 27,
   "metadata": {},
   "outputs": [
    {
     "name": "stdout",
     "output_type": "stream",
     "text": [
      "This is an odd number.\n"
     ]
    }
   ],
   "source": [
    "# check if a number is even\n",
    "num =3\n",
    "if num % 2 == 0:\n",
    "    print(\"This is an even number.\")\n",
    "else:\n",
    "    print(\"This is an odd number.\")"
   ]
  },
  {
   "cell_type": "code",
   "execution_count": 26,
   "metadata": {},
   "outputs": [
    {
     "name": "stdout",
     "output_type": "stream",
     "text": [
      "Not the start of the workweek.\n"
     ]
    }
   ],
   "source": [
    "# check if today is  a monday \n",
    "day = 'Friday'\n",
    "if day == 'Monday':\n",
    "    print(\"Start of the workweek.\")\n",
    "else:\n",
    "    print(\"Not the start of the workweek.\")"
   ]
  },
  {
   "cell_type": "code",
   "execution_count": 31,
   "metadata": {},
   "outputs": [
    {
     "name": "stdout",
     "output_type": "stream",
     "text": [
      "This number is not divisible by 5.\n"
     ]
    }
   ],
   "source": [
    "# check if a number is divisible by 5\n",
    "num = 21\n",
    "if num % 5 == 0:\n",
    "    print(\"This number is divisible by 5.\")\n",
    "else:\n",
    "        print(\"This number is not divisible by 5.\")"
   ]
  },
  {
   "cell_type": "code",
   "execution_count": null,
   "metadata": {},
   "outputs": [
    {
     "name": "stdout",
     "output_type": "stream",
     "text": [
      "This is not a leap year.\n"
     ]
    }
   ],
   "source": [
    "# check if a year is a leap year\n",
    "year = 2025\n",
    "if year % 4 == 0:\n",
    "    print(\"This is a leap year.\")\n",
    "else:\n",
    "    print(\"This is not a leap year.\")"
   ]
  },
  {
   "cell_type": "markdown",
   "metadata": {},
   "source": [
    "IF-ELIF-ELSE STATEMENTS\n",
    "- checks multiple conditions in order"
   ]
  },
  {
   "cell_type": "code",
   "execution_count": null,
   "metadata": {},
   "outputs": [
    {
     "name": "stdout",
     "output_type": "stream",
     "text": [
      "B\n"
     ]
    }
   ],
   "source": [
    "# check grade based on score\n",
    "score = 85\n",
    "if score >= 90:\n",
    "    print(\"A\")\n",
    "elif score >= 80:\n",
    "    print(\"B\")\n",
    "elif score >= 70:\n",
    "    print(\"C\")\n",
    "elif score >= 60:\n",
    "    print(\"D\")\n",
    "else:\n",
    "    print(\"F\")\n"
   ]
  },
  {
   "cell_type": "code",
   "execution_count": 56,
   "metadata": {},
   "outputs": [
    {
     "name": "stdout",
     "output_type": "stream",
     "text": [
      "Your age is 27 . You are an adult\n"
     ]
    }
   ],
   "source": [
    "# check age group based on age\n",
    "age = 27\n",
    "if age >= 18:\n",
    "    print('Your age is',age,\".\",\"You are an adult\")\n",
    "elif age >= 13:\n",
    "    print(\"You are a teenager.\")\n",
    "else:\n",
    "    print(\"You are a child.\")"
   ]
  },
  {
   "cell_type": "code",
   "execution_count": null,
   "metadata": {},
   "outputs": [
    {
     "name": "stdout",
     "output_type": "stream",
     "text": [
      "It is pleasant.\n"
     ]
    }
   ],
   "source": [
    "# check temperature\n",
    "temp = 20\n",
    "if temp >= 35:\n",
    "    print(\"It is too hot.\")\n",
    "elif temp >= 26:\n",
    "    print(\"It is warm.\")\n",
    "elif temp >= 16:\n",
    "    print(\"It is pleasant.\") \n",
    "elif temp >= 5:\n",
    "    print(\"It is chilly.\")\n",
    "else:\n",
    "    print(\"It is very cold.\")"
   ]
  },
  {
   "cell_type": "code",
   "execution_count": 55,
   "metadata": {},
   "outputs": [
    {
     "name": "stdout",
     "output_type": "stream",
     "text": [
      "Invalid\n"
     ]
    }
   ],
   "source": [
    "# traffic light colors and meaning\n",
    "traffic_light = 'Pink'\n",
    "if traffic_light == \"Green\":\n",
    "    print(\"Go!\")\n",
    "elif traffic_light == \"Orange\":\n",
    "    print(\"Get Ready!\")\n",
    "elif traffic_light == \"Red\":\n",
    "    print(\"Stop!\")\n",
    "else:\n",
    "    print(\"Invalid\")"
   ]
  },
  {
   "cell_type": "code",
   "execution_count": null,
   "metadata": {},
   "outputs": [
    {
     "name": "stdout",
     "output_type": "stream",
     "text": [
      "The charges are $5.\n"
     ]
    },
    {
     "ename": "",
     "evalue": "",
     "output_type": "error",
     "traceback": [
      "\u001b[1;31mThe Kernel crashed while executing code in the current cell or a previous cell. \n",
      "\u001b[1;31mPlease review the code in the cell(s) to identify a possible cause of the failure. \n",
      "\u001b[1;31mClick <a href='https://aka.ms/vscodeJupyterKernelCrash'>here</a> for more info. \n",
      "\u001b[1;31mView Jupyter <a href='command:jupyter.viewOutput'>log</a> for further details."
     ]
    }
   ],
   "source": [
    "# charges at the cinema based on age\n",
    "age= 12\n",
    "if age < 5:\n",
    "    print(\"The charges are free.\")\n",
    "elif age <= 12:\n",
    "    print(\"The charges are $5.\")\n",
    "elif age >= 13:\n",
    "    print(\"The charges are $8.\")\n",
    "elif age >= 19:\n",
    "    print(\"The charges are $12.\")\n",
    "elif age >= 60:\n",
    "    print(\"The charges are $7.\")\n",
    "else:\n",
    "    print (\"See the receptionist.\")\n"
   ]
  },
  {
   "cell_type": "code",
   "execution_count": 51,
   "metadata": {},
   "outputs": [
    {
     "name": "stdout",
     "output_type": "stream",
     "text": [
      "Weekday\n"
     ]
    }
   ],
   "source": [
    "# categorize days of the week\n",
    "day = \"Monday\"\n",
    "if day == \"Monday\":\n",
    "    print(\"Weekday\")\n",
    "elif day == \"Tuesday\":\n",
    "    print(\"Weekday\")\n",
    "elif day == \"Wednesday\":\n",
    "    print(\"Weekday\")\n",
    "elif day == \"Thursday\":\n",
    "    print(\"Weekday\")\n",
    "elif day == \"Friday\":\n",
    "    print(\"Weekday\")\n",
    "elif day == \"Saturday\":\n",
    "    print(\"Weekend\")\n",
    "elif day == \"Sunday\":\n",
    "    print(\"Weekend\")\n",
    "else:\n",
    "    print(\"Invalid\")"
   ]
  },
  {
   "cell_type": "code",
   "execution_count": null,
   "metadata": {},
   "outputs": [
    {
     "name": "stdout",
     "output_type": "stream",
     "text": [
      "Weekday\n"
     ]
    }
   ],
   "source": [
    "# categorize days of the week using a list\n",
    "day = \"Monday\"\n",
    "Weekday = [\"Monday\", \"Tuesday\", \"Wednesday\", \"Thursday\", \"Friday\"]\n",
    "Weekend = [\"Saturday\", \"Sunday\"]\n",
    "if day in Weekday:\n",
    "    print(\"Weekday\")\n",
    "elif day in Weekend:\n",
    "    print(\"Weekend\")\n",
    "else:\n",
    "    print(\"Invalid\")\n",
    "    "
   ]
  },
  {
   "cell_type": "code",
   "execution_count": null,
   "metadata": {},
   "outputs": [
    {
     "name": "stdout",
     "output_type": "stream",
     "text": [
      "Invalid\n"
     ]
    }
   ],
   "source": [
    "# categorize days of the week using or operator\n",
    "day = \"Montag\"\t\n",
    "if day == \"Monday\" or day == \"Tuesday\" or day == \"Wednesday\" or day == \"Thursday\" or day == \"Friday\":\n",
    "    print(\"Weekday\")\n",
    "elif day == \"Saturday\" or day == \"Sunday\":\n",
    "    print(\"Weekend\")\n",
    "else:\n",
    "    print(\"Invalid\")"
   ]
  },
  {
   "cell_type": "markdown",
   "metadata": {},
   "source": [
    "FOR AND WHILE LOOPS REVISITED"
   ]
  },
  {
   "cell_type": "code",
   "execution_count": 67,
   "metadata": {},
   "outputs": [
    {
     "name": "stdout",
     "output_type": "stream",
     "text": [
      "0 1 2 3 4 "
     ]
    }
   ],
   "source": [
    "for i in range (5):\n",
    "    print(i, end = \" \")\n"
   ]
  },
  {
   "cell_type": "code",
   "execution_count": 68,
   "metadata": {},
   "outputs": [
    {
     "name": "stdout",
     "output_type": "stream",
     "text": [
      "1 2 3 4 5 "
     ]
    }
   ],
   "source": [
    "for i in range (1, 6):\n",
    "    print(i, end = \" \")"
   ]
  },
  {
   "cell_type": "code",
   "execution_count": 72,
   "metadata": {},
   "outputs": [
    {
     "name": "stdout",
     "output_type": "stream",
     "text": [
      "apple,banana,orange,Mango,Pear,Pineapple,"
     ]
    }
   ],
   "source": [
    "fruits =[ \"apple\", \"banana\", \"orange\",\"Mango\",\"Pear\",\"Pineapple\"]\n",
    "for fruit in fruits:\n",
    "    print(fruit, end = \",\")\n"
   ]
  },
  {
   "cell_type": "code",
   "execution_count": 74,
   "metadata": {},
   "outputs": [
    {
     "name": "stdout",
     "output_type": "stream",
     "text": [
      "2,4,6,8,10,"
     ]
    }
   ],
   "source": [
    "for number in range(2, 11, 2):\n",
    "    print(number, end = \",\")\n"
   ]
  },
  {
   "cell_type": "code",
   "execution_count": 77,
   "metadata": {},
   "outputs": [
    {
     "name": "stdout",
     "output_type": "stream",
     "text": [
      "2,4,6,8,10,12,14,16,18,20,22,24,26,28,30,32,34,36,38,40,42,44,46,48,50,52,54,56,58,60,62,64,66,68,70,72,74,76,78,80,82,84,86,88,90,92,94,96,98,100,"
     ]
    }
   ],
   "source": [
    "for number in range(2, 101, 2):\n",
    "    print(number, end = \",\")"
   ]
  },
  {
   "cell_type": "code",
   "execution_count": 84,
   "metadata": {},
   "outputs": [
    {
     "name": "stdout",
     "output_type": "stream",
     "text": [
      "10,9,8,7,6,5,4,3,2,1,"
     ]
    }
   ],
   "source": [
    "for number in range(10,0,-1):\t\n",
    "    print(number, end = \",\")"
   ]
  },
  {
   "cell_type": "code",
   "execution_count": 92,
   "metadata": {},
   "outputs": [
    {
     "name": "stdout",
     "output_type": "stream",
     "text": [
      "P\n",
      "y\n",
      "t\n",
      "h\n",
      "o\n",
      "n\n"
     ]
    }
   ],
   "source": [
    "lang = \"Python\"\n",
    "for letter in lang:\n",
    "    print(letter)"
   ]
  },
  {
   "cell_type": "code",
   "execution_count": 95,
   "metadata": {},
   "outputs": [
    {
     "name": "stdout",
     "output_type": "stream",
     "text": [
      "1\n",
      "2\n",
      "3\n"
     ]
    }
   ],
   "source": [
    "count = 1\n",
    "while count <= 3:\n",
    "    print(count)\n",
    "    count += 1"
   ]
  },
  {
   "cell_type": "markdown",
   "metadata": {},
   "source": [
    "LOOP CONTROL STATEMENTS\n",
    "- break statement - terminates the loop or exits the loop immediately \n",
    "- continue statement - skips the current iteration and moves to the next iteration\n",
    "- pass statement - used as a placeholder for future code\n"
   ]
  },
  {
   "cell_type": "code",
   "execution_count": 106,
   "metadata": {},
   "outputs": [
    {
     "name": "stdout",
     "output_type": "stream",
     "text": [
      "0 1 2 3 4 5 6 7 8 9 10 "
     ]
    }
   ],
   "source": [
    "# Break statement\n",
    "for i in range(21):\n",
    "    if i == 11:\n",
    "        break\n",
    "    print (i, end = \" \")\n"
   ]
  },
  {
   "cell_type": "code",
   "execution_count": 107,
   "metadata": {},
   "outputs": [
    {
     "name": "stdout",
     "output_type": "stream",
     "text": [
      "0 1 2 3 4 5 6 7 8 9 10 12 13 14 15 16 17 18 19 20 "
     ]
    }
   ],
   "source": [
    "# Continue statement\n",
    "for i in range(21):\n",
    "    if i == 11:\n",
    "        continue\n",
    "    print (i, end = \" \")"
   ]
  },
  {
   "cell_type": "code",
   "execution_count": null,
   "metadata": {},
   "outputs": [
    {
     "name": "stdout",
     "output_type": "stream",
     "text": [
      "0 1 2 3 4 5 6 7 8 9 10 11 12 13 14 15 16 17 18 19 20 "
     ]
    }
   ],
   "source": [
    "# Pass statement\n",
    "for i in range(21):\n",
    "    if i == 11:\n",
    "        pass\n",
    "    print (i, end = \" \")"
   ]
  },
  {
   "cell_type": "code",
   "execution_count": null,
   "metadata": {},
   "outputs": [],
   "source": []
  }
 ],
 "metadata": {
  "kernelspec": {
   "display_name": "Python 3",
   "language": "python",
   "name": "python3"
  },
  "language_info": {
   "codemirror_mode": {
    "name": "ipython",
    "version": 3
   },
   "file_extension": ".py",
   "mimetype": "text/x-python",
   "name": "python",
   "nbconvert_exporter": "python",
   "pygments_lexer": "ipython3",
   "version": "3.13.2"
  }
 },
 "nbformat": 4,
 "nbformat_minor": 2
}

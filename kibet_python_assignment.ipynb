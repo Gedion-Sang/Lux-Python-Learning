{
 "cells": [
  {
   "cell_type": "markdown",
   "metadata": {},
   "source": [
    "1. DATA TYPES AND VARIABLES"
   ]
  },
  {
   "cell_type": "code",
   "execution_count": 128,
   "metadata": {},
   "outputs": [
    {
     "name": "stdout",
     "output_type": "stream",
     "text": [
      "Student name is John,  their age is 23 years old and is 2.567 metres tall. Student enrollment status = True.\n"
     ]
    }
   ],
   "source": [
    "# program to enter student details\n",
    "\n",
    "name = input(\"Enter your name: \")\n",
    "age = int(input(\"Enter your age: \"))\n",
    "height = float(input(\"Enter your height in metres: \"))\n",
    "student_status = bool(input(\"Enter True or False: \"))\n",
    "\n",
    "print(f\"Student name is {name},  their age is {age} years old and is {height} metres tall. Student enrollment status = {student_status}.\")"
   ]
  },
  {
   "cell_type": "markdown",
   "metadata": {},
   "source": [
    "2. CONDITIONALS(IF-ELIF-ELSE)"
   ]
  },
  {
   "cell_type": "code",
   "execution_count": null,
   "metadata": {},
   "outputs": [
    {
     "name": "stdout",
     "output_type": "stream",
     "text": [
      "Ticket costs $15\n"
     ]
    }
   ],
   "source": [
    "# ticket prices based on age\n",
    "age = int(input(\"Enter your age:\"))\n",
    "\n",
    "if age < 5:\n",
    "    print('Free Entry')\n",
    "elif age <= 17:\n",
    "    print('Ticket costs $10')\n",
    "elif age <= 60:\n",
    "    print('Ticket costs $15')\n",
    "else:\n",
    "    print('Ticket costs $12')\n"
   ]
  },
  {
   "cell_type": "markdown",
   "metadata": {},
   "source": [
    "3. LOOPS(FOR,WHILE)"
   ]
  },
  {
   "cell_type": "code",
   "execution_count": null,
   "metadata": {},
   "outputs": [
    {
     "name": "stdout",
     "output_type": "stream",
     "text": [
      "2 x 2= 4\n",
      "3 x 3= 9\n",
      "4 x 4= 16\n",
      "5 x 5= 25\n",
      "6 x 6= 36\n",
      "7 x 7= 49\n",
      "8 x 8= 64\n",
      "9 x 9= 81\n",
      "10 x 10= 100\n"
     ]
    }
   ],
   "source": [
    "# generates multiplication table\n",
    "\n",
    "for i in range(2, 11): # range (number to be input, limit + 1)\n",
    "    print(f\"{i} x {i}= {i * i}\")"
   ]
  },
  {
   "cell_type": "code",
   "execution_count": null,
   "metadata": {},
   "outputs": [
    {
     "name": "stdout",
     "output_type": "stream",
     "text": [
      "2550\n",
      "The sum of even numbers from 1 to 100 is 2550\n"
     ]
    }
   ],
   "source": [
    "# sum of even numbers\n",
    "sum = 0\n",
    "for i in range (2,101):\n",
    "    if i % 2 == 0:\n",
    "        sum += i\n",
    "print(sum)\n",
    "print(f'The sum of even numbers from 1 to 100 is {sum}')"
   ]
  },
  {
   "cell_type": "code",
   "execution_count": null,
   "metadata": {},
   "outputs": [
    {
     "name": "stdout",
     "output_type": "stream",
     "text": [
      "Success!\n"
     ]
    }
   ],
   "source": [
    "# password validation system\n",
    "password = input('Enter your password: ')\n",
    "\n",
    "while len(password) >= 8 and password.isalnum() and password.isupper():\n",
    "    print('Success!')\n",
    "    break\n",
    "else:\n",
    "    print('Try again!')"
   ]
  },
  {
   "cell_type": "markdown",
   "metadata": {},
   "source": [
    "4. DATA STRUCTURES"
   ]
  },
  {
   "cell_type": "code",
   "execution_count": null,
   "metadata": {},
   "outputs": [
    {
     "name": "stdout",
     "output_type": "stream",
     "text": [
      "Choose options - add(a), update(u),exit(e),display(d)\n",
      "a + Bryan.\n",
      "Choose options - add(a), update(u),exit(e),display(d)\n",
      "Try again.\n",
      "Choose options - add(a), update(u),exit(e),display(d)\n",
      "Try again.\n",
      "Choose options - add(a), update(u),exit(e),display(d)\n",
      "Exit system.\n"
     ]
    }
   ],
   "source": [
    "# dictionary to store student data\n",
    "students = {}\n",
    "while True:\n",
    "    print(\"Choose options - add(a), update(u),exit(e),display(d)\")\n",
    "    choice = input(\"Choose either (a/u/e/d): \")\n",
    "\n",
    "    if choice == 'a':\n",
    "        name = input(\"Enter name: \")\n",
    "        grade = input(\"Enter grade: \")\n",
    "        students[name] = grade\n",
    "        print(f\"{name} + {grade}.\")\n",
    "    elif choice == 'u':\n",
    "        name = input(\"Enter name to update: \")\n",
    "        if name in students:\n",
    "            new_grade = input(\"Enter new grade: \")\n",
    "            students[name] = new_grade\n",
    "            print(f\"grade updated to {new_grade}.\")\n",
    "        else:\n",
    "            print(\"Invalid entry.\")\n",
    "    elif choice == 'd':\n",
    "        if not students:\n",
    "            print(\"No records.\")\n",
    "        else:\n",
    "            print(\"Student Records:\")\n",
    "            for student, grade in students.items():\n",
    "                print(f\"{student}: {grade}\")\n",
    "    elif choice == 'e':\n",
    "        print(\"Exit system.\")\n",
    "        break\n",
    "    else:\n",
    "        print(\"Try again.\")"
   ]
  },
  {
   "cell_type": "code",
   "execution_count": null,
   "metadata": {},
   "outputs": [
    {
     "name": "stdout",
     "output_type": "stream",
     "text": [
      "Try again.\n",
      "Try again.\n",
      "Try again.\n",
      "Result: {'', '4', '3', '1', '2'}\n"
     ]
    }
   ],
   "source": [
    "# finding unique items in a set\n",
    "unique_num = set()\n",
    "while len(unique_num) < 5:\n",
    "    num = input(\"Enter number: \")\n",
    "    if num in unique_num:\n",
    "        print(\"Try again.\")\n",
    "    else:\n",
    "        unique_num.add(num)\n",
    "print(\"Result:\", unique_num)"
   ]
  }
 ],
 "metadata": {
  "kernelspec": {
   "display_name": "Python 3",
   "language": "python",
   "name": "python3"
  },
  "language_info": {
   "codemirror_mode": {
    "name": "ipython",
    "version": 3
   },
   "file_extension": ".py",
   "mimetype": "text/x-python",
   "name": "python",
   "nbconvert_exporter": "python",
   "pygments_lexer": "ipython3",
   "version": "3.13.2"
  }
 },
 "nbformat": 4,
 "nbformat_minor": 2
}
